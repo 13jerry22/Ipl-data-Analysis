{
 "cells": [
  {
   "cell_type": "markdown",
   "id": "2734b3f5",
   "metadata": {
    "_cell_guid": "b1076dfc-b9ad-4769-8c92-a6c4dae69d19",
    "_uuid": "8f2839f25d086af736a60e9eeb907d3b93b6e0e5",
    "papermill": {
     "duration": 0.076722,
     "end_time": "2022-03-02T04:30:09.711174",
     "exception": false,
     "start_time": "2022-03-02T04:30:09.634452",
     "status": "completed"
    },
    "tags": []
   },
   "source": [
    "# IPL 2022 Auction Analysis"
   ]
  },
  {
   "cell_type": "markdown",
   "id": "f04a00a1",
   "metadata": {
    "papermill": {
     "duration": 0.071601,
     "end_time": "2022-03-02T04:30:09.855221",
     "exception": false,
     "start_time": "2022-03-02T04:30:09.783620",
     "status": "completed"
    },
    "tags": []
   },
   "source": [
    "### Importing Libraries"
   ]
  },
  {
   "cell_type": "code",
   "execution_count": 8,
   "id": "231ddba3",
   "metadata": {
    "papermill": {
     "duration": 1.172026,
     "end_time": "2022-03-02T04:30:11.099932",
     "exception": false,
     "start_time": "2022-03-02T04:30:09.927906",
     "status": "completed"
    },
    "tags": []
   },
   "outputs": [],
   "source": [
    "import pandas as pd\n",
    "import numpy as np\n",
    "import seaborn as sns\n",
    "import matplotlib.pyplot as plt\n",
    "\n",
    "%matplotlib inline\n",
    "\n",
    "import warnings\n",
    "warnings.filterwarnings('ignore')"
   ]
  },
  {
   "cell_type": "markdown",
   "id": "73f7b2a9",
   "metadata": {
    "papermill": {
     "duration": 0.072605,
     "end_time": "2022-03-02T04:30:11.246507",
     "exception": false,
     "start_time": "2022-03-02T04:30:11.173902",
     "status": "completed"
    },
    "tags": []
   },
   "source": [
    "### Reading Data"
   ]
  },
  {
   "cell_type": "code",
   "execution_count": 9,
   "id": "9aa0a2ba",
   "metadata": {
    "papermill": {
     "duration": 0.094546,
     "end_time": "2022-03-02T04:30:11.413224",
     "exception": false,
     "start_time": "2022-03-02T04:30:11.318678",
     "status": "completed"
    },
    "tags": []
   },
   "outputs": [
    {
     "name": "stdout",
     "output_type": "stream",
     "text": [
      "     Unnamed: 0                  Player  Base Price         TYPE  \\\n",
      "0             0             Rashid Khan  Draft Pick       BOWLER   \n",
      "1             1           Hardik Pandya  Draft Pick  ALL-ROUNDER   \n",
      "2             2         Lockie Ferguson        2 Cr       BOWLER   \n",
      "3             3           Rahul Tewatia     40 Lakh  ALL-ROUNDER   \n",
      "4             4            Shubman Gill  Draft Pick       BATTER   \n",
      "..          ...                     ...         ...          ...   \n",
      "628         628            Sairaj Patil     20 Lakh       BATTER   \n",
      "629         629              Monu Singh     20 Lakh       BOWLER   \n",
      "630         630  Nivethan Radhakrishnan     20 Lakh       BOWLER   \n",
      "631         631            Lance Morris     20 Lakh       BOWLER   \n",
      "632         632            Aaron Hardie     20 Lakh  ALL-ROUNDER   \n",
      "\n",
      "     COST IN ₹ (CR.)  Cost IN $ (000) 2021 Squad            Team  \n",
      "0               15.0           1950.0        SRH  Gujarat Titans  \n",
      "1               15.0           1950.0         MI  Gujarat Titans  \n",
      "2               10.0           1300.0        KKR  Gujarat Titans  \n",
      "3                9.0           1170.0         RR  Gujarat Titans  \n",
      "4                8.0           1040.0        KKR  Gujarat Titans  \n",
      "..               ...              ...        ...             ...  \n",
      "628              NaN              NaN        NaN          Unsold  \n",
      "629              NaN              NaN        NaN          Unsold  \n",
      "630              NaN              NaN        NaN          Unsold  \n",
      "631              NaN              NaN        NaN          Unsold  \n",
      "632              NaN              NaN        NaN          Unsold  \n",
      "\n",
      "[633 rows x 8 columns]\n"
     ]
    }
   ],
   "source": [
    "df = pd.read_csv('C:\\\\Users\\\\abhis\\\\loan\\\\ipl_2022_dataset.csv',header=0)\n",
    "print(df)"
   ]
  },
  {
   "cell_type": "code",
   "execution_count": 10,
   "id": "187c00b8",
   "metadata": {
    "papermill": {
     "duration": 0.084016,
     "end_time": "2022-03-02T04:30:11.569812",
     "exception": false,
     "start_time": "2022-03-02T04:30:11.485796",
     "status": "completed"
    },
    "tags": []
   },
   "outputs": [
    {
     "data": {
      "text/plain": [
       "(633, 8)"
      ]
     },
     "execution_count": 10,
     "metadata": {},
     "output_type": "execute_result"
    }
   ],
   "source": [
    "df.shape"
   ]
  },
  {
   "cell_type": "code",
   "execution_count": 11,
   "id": "4c7556a6",
   "metadata": {
    "papermill": {
     "duration": 0.081251,
     "end_time": "2022-03-02T04:30:11.724597",
     "exception": false,
     "start_time": "2022-03-02T04:30:11.643346",
     "status": "completed"
    },
    "tags": []
   },
   "outputs": [
    {
     "data": {
      "text/plain": [
       "Index(['Unnamed: 0', 'Player', 'Base Price', 'TYPE', 'COST IN ₹ (CR.)',\n",
       "       'Cost IN $ (000)', '2021 Squad', 'Team'],\n",
       "      dtype='object')"
      ]
     },
     "execution_count": 11,
     "metadata": {},
     "output_type": "execute_result"
    }
   ],
   "source": [
    "df.columns"
   ]
  },
  {
   "cell_type": "markdown",
   "id": "0470e61c",
   "metadata": {
    "papermill": {
     "duration": 0.072448,
     "end_time": "2022-03-02T04:30:11.870874",
     "exception": false,
     "start_time": "2022-03-02T04:30:11.798426",
     "status": "completed"
    },
    "tags": []
   },
   "source": [
    "**How our Data Looks ...**"
   ]
  },
  {
   "cell_type": "code",
   "execution_count": 12,
   "id": "ac1373ed",
   "metadata": {
    "papermill": {
     "duration": 0.097819,
     "end_time": "2022-03-02T04:30:12.041408",
     "exception": false,
     "start_time": "2022-03-02T04:30:11.943589",
     "status": "completed"
    },
    "tags": []
   },
   "outputs": [
    {
     "data": {
      "text/html": [
       "<div>\n",
       "<style scoped>\n",
       "    .dataframe tbody tr th:only-of-type {\n",
       "        vertical-align: middle;\n",
       "    }\n",
       "\n",
       "    .dataframe tbody tr th {\n",
       "        vertical-align: top;\n",
       "    }\n",
       "\n",
       "    .dataframe thead th {\n",
       "        text-align: right;\n",
       "    }\n",
       "</style>\n",
       "<table border=\"1\" class=\"dataframe\">\n",
       "  <thead>\n",
       "    <tr style=\"text-align: right;\">\n",
       "      <th></th>\n",
       "      <th>Unnamed: 0</th>\n",
       "      <th>Player</th>\n",
       "      <th>Base Price</th>\n",
       "      <th>TYPE</th>\n",
       "      <th>COST IN ₹ (CR.)</th>\n",
       "      <th>Cost IN $ (000)</th>\n",
       "      <th>2021 Squad</th>\n",
       "      <th>Team</th>\n",
       "    </tr>\n",
       "  </thead>\n",
       "  <tbody>\n",
       "    <tr>\n",
       "      <th>17</th>\n",
       "      <td>17</td>\n",
       "      <td>Varun Aaron</td>\n",
       "      <td>50 Lakh</td>\n",
       "      <td>BOWLER</td>\n",
       "      <td>0.5</td>\n",
       "      <td>65.0</td>\n",
       "      <td>NaN</td>\n",
       "      <td>Gujarat Titans</td>\n",
       "    </tr>\n",
       "  </tbody>\n",
       "</table>\n",
       "</div>"
      ],
      "text/plain": [
       "    Unnamed: 0       Player Base Price    TYPE  COST IN ₹ (CR.)  \\\n",
       "17          17  Varun Aaron    50 Lakh  BOWLER              0.5   \n",
       "\n",
       "    Cost IN $ (000) 2021 Squad            Team  \n",
       "17             65.0        NaN  Gujarat Titans  "
      ]
     },
     "execution_count": 12,
     "metadata": {},
     "output_type": "execute_result"
    }
   ],
   "source": [
    "df.sample()"
   ]
  },
  {
   "cell_type": "code",
   "execution_count": 13,
   "id": "0fd72c0e",
   "metadata": {
    "papermill": {
     "duration": 0.084575,
     "end_time": "2022-03-02T04:30:12.199754",
     "exception": false,
     "start_time": "2022-03-02T04:30:12.115179",
     "status": "completed"
    },
    "tags": []
   },
   "outputs": [],
   "source": [
    "df.drop('Unnamed: 0', axis =1, inplace = True)"
   ]
  },
  {
   "cell_type": "markdown",
   "id": "a28177a5",
   "metadata": {
    "papermill": {
     "duration": 0.072931,
     "end_time": "2022-03-02T04:30:12.346359",
     "exception": false,
     "start_time": "2022-03-02T04:30:12.273428",
     "status": "completed"
    },
    "tags": []
   },
   "source": [
    "**Information of Data**"
   ]
  },
  {
   "cell_type": "code",
   "execution_count": 14,
   "id": "0c9327c3",
   "metadata": {
    "papermill": {
     "duration": 0.096441,
     "end_time": "2022-03-02T04:30:12.516109",
     "exception": false,
     "start_time": "2022-03-02T04:30:12.419668",
     "status": "completed"
    },
    "tags": []
   },
   "outputs": [
    {
     "name": "stdout",
     "output_type": "stream",
     "text": [
      "<class 'pandas.core.frame.DataFrame'>\n",
      "RangeIndex: 633 entries, 0 to 632\n",
      "Data columns (total 7 columns):\n",
      " #   Column           Non-Null Count  Dtype  \n",
      "---  ------           --------------  -----  \n",
      " 0   Player           633 non-null    object \n",
      " 1   Base Price       633 non-null    object \n",
      " 2   TYPE             633 non-null    object \n",
      " 3   COST IN ₹ (CR.)  237 non-null    float64\n",
      " 4   Cost IN $ (000)  237 non-null    float64\n",
      " 5   2021 Squad       199 non-null    object \n",
      " 6   Team             633 non-null    object \n",
      "dtypes: float64(2), object(5)\n",
      "memory usage: 34.7+ KB\n"
     ]
    }
   ],
   "source": [
    "df.info()"
   ]
  },
  {
   "cell_type": "code",
   "execution_count": 15,
   "id": "df95cdba",
   "metadata": {
    "papermill": {
     "duration": 0.085753,
     "end_time": "2022-03-02T04:30:12.677252",
     "exception": false,
     "start_time": "2022-03-02T04:30:12.591499",
     "status": "completed"
    },
    "tags": []
   },
   "outputs": [
    {
     "data": {
      "text/plain": [
       "Player               0\n",
       "Base Price           0\n",
       "TYPE                 0\n",
       "COST IN ₹ (CR.)    396\n",
       "Cost IN $ (000)    396\n",
       "2021 Squad         434\n",
       "Team                 0\n",
       "dtype: int64"
      ]
     },
     "execution_count": 15,
     "metadata": {},
     "output_type": "execute_result"
    }
   ],
   "source": [
    "df.isnull().sum()"
   ]
  },
  {
   "cell_type": "markdown",
   "id": "38397f1a",
   "metadata": {
    "papermill": {
     "duration": 0.074919,
     "end_time": "2022-03-02T04:30:12.826410",
     "exception": false,
     "start_time": "2022-03-02T04:30:12.751491",
     "status": "completed"
    },
    "tags": []
   },
   "source": [
    "**Treating Null Values in 'COST IN ₹ (CR.)' and 'Cost IN $ (000)'**"
   ]
  },
  {
   "cell_type": "code",
   "execution_count": 16,
   "id": "64e274ec",
   "metadata": {
    "papermill": {
     "duration": 0.099299,
     "end_time": "2022-03-02T04:30:13.003985",
     "exception": false,
     "start_time": "2022-03-02T04:30:12.904686",
     "status": "completed"
    },
    "tags": []
   },
   "outputs": [
    {
     "data": {
      "text/html": [
       "<div>\n",
       "<style scoped>\n",
       "    .dataframe tbody tr th:only-of-type {\n",
       "        vertical-align: middle;\n",
       "    }\n",
       "\n",
       "    .dataframe tbody tr th {\n",
       "        vertical-align: top;\n",
       "    }\n",
       "\n",
       "    .dataframe thead th {\n",
       "        text-align: right;\n",
       "    }\n",
       "</style>\n",
       "<table border=\"1\" class=\"dataframe\">\n",
       "  <thead>\n",
       "    <tr style=\"text-align: right;\">\n",
       "      <th></th>\n",
       "      <th>Player</th>\n",
       "      <th>Base Price</th>\n",
       "      <th>TYPE</th>\n",
       "      <th>COST IN ₹ (CR.)</th>\n",
       "      <th>Cost IN $ (000)</th>\n",
       "      <th>2021 Squad</th>\n",
       "      <th>Team</th>\n",
       "    </tr>\n",
       "  </thead>\n",
       "  <tbody>\n",
       "    <tr>\n",
       "      <th>237</th>\n",
       "      <td>Suresh Raina</td>\n",
       "      <td>2 Cr</td>\n",
       "      <td>BATTER</td>\n",
       "      <td>NaN</td>\n",
       "      <td>NaN</td>\n",
       "      <td>CSK</td>\n",
       "      <td>Unsold</td>\n",
       "    </tr>\n",
       "    <tr>\n",
       "      <th>238</th>\n",
       "      <td>Steve Smith</td>\n",
       "      <td>2 Cr</td>\n",
       "      <td>BATTER</td>\n",
       "      <td>NaN</td>\n",
       "      <td>NaN</td>\n",
       "      <td>DC</td>\n",
       "      <td>Unsold</td>\n",
       "    </tr>\n",
       "    <tr>\n",
       "      <th>239</th>\n",
       "      <td>Shakib Al Hasan</td>\n",
       "      <td>2 Cr</td>\n",
       "      <td>ALL-ROUNDER</td>\n",
       "      <td>NaN</td>\n",
       "      <td>NaN</td>\n",
       "      <td>KKR</td>\n",
       "      <td>Unsold</td>\n",
       "    </tr>\n",
       "    <tr>\n",
       "      <th>240</th>\n",
       "      <td>Amit Mishra</td>\n",
       "      <td>1.5 Cr</td>\n",
       "      <td>BOWLER</td>\n",
       "      <td>NaN</td>\n",
       "      <td>NaN</td>\n",
       "      <td>DC</td>\n",
       "      <td>Unsold</td>\n",
       "    </tr>\n",
       "    <tr>\n",
       "      <th>241</th>\n",
       "      <td>Adil Rashid</td>\n",
       "      <td>2 Cr</td>\n",
       "      <td>BOWLER</td>\n",
       "      <td>NaN</td>\n",
       "      <td>NaN</td>\n",
       "      <td>PBKS</td>\n",
       "      <td>Unsold</td>\n",
       "    </tr>\n",
       "    <tr>\n",
       "      <th>...</th>\n",
       "      <td>...</td>\n",
       "      <td>...</td>\n",
       "      <td>...</td>\n",
       "      <td>...</td>\n",
       "      <td>...</td>\n",
       "      <td>...</td>\n",
       "      <td>...</td>\n",
       "    </tr>\n",
       "    <tr>\n",
       "      <th>628</th>\n",
       "      <td>Sairaj Patil</td>\n",
       "      <td>20 Lakh</td>\n",
       "      <td>BATTER</td>\n",
       "      <td>NaN</td>\n",
       "      <td>NaN</td>\n",
       "      <td>NaN</td>\n",
       "      <td>Unsold</td>\n",
       "    </tr>\n",
       "    <tr>\n",
       "      <th>629</th>\n",
       "      <td>Monu Singh</td>\n",
       "      <td>20 Lakh</td>\n",
       "      <td>BOWLER</td>\n",
       "      <td>NaN</td>\n",
       "      <td>NaN</td>\n",
       "      <td>NaN</td>\n",
       "      <td>Unsold</td>\n",
       "    </tr>\n",
       "    <tr>\n",
       "      <th>630</th>\n",
       "      <td>Nivethan Radhakrishnan</td>\n",
       "      <td>20 Lakh</td>\n",
       "      <td>BOWLER</td>\n",
       "      <td>NaN</td>\n",
       "      <td>NaN</td>\n",
       "      <td>NaN</td>\n",
       "      <td>Unsold</td>\n",
       "    </tr>\n",
       "    <tr>\n",
       "      <th>631</th>\n",
       "      <td>Lance Morris</td>\n",
       "      <td>20 Lakh</td>\n",
       "      <td>BOWLER</td>\n",
       "      <td>NaN</td>\n",
       "      <td>NaN</td>\n",
       "      <td>NaN</td>\n",
       "      <td>Unsold</td>\n",
       "    </tr>\n",
       "    <tr>\n",
       "      <th>632</th>\n",
       "      <td>Aaron Hardie</td>\n",
       "      <td>20 Lakh</td>\n",
       "      <td>ALL-ROUNDER</td>\n",
       "      <td>NaN</td>\n",
       "      <td>NaN</td>\n",
       "      <td>NaN</td>\n",
       "      <td>Unsold</td>\n",
       "    </tr>\n",
       "  </tbody>\n",
       "</table>\n",
       "<p>396 rows × 7 columns</p>\n",
       "</div>"
      ],
      "text/plain": [
       "                     Player Base Price         TYPE  COST IN ₹ (CR.)  \\\n",
       "237            Suresh Raina       2 Cr       BATTER              NaN   \n",
       "238             Steve Smith       2 Cr       BATTER              NaN   \n",
       "239         Shakib Al Hasan       2 Cr  ALL-ROUNDER              NaN   \n",
       "240             Amit Mishra     1.5 Cr       BOWLER              NaN   \n",
       "241             Adil Rashid       2 Cr       BOWLER              NaN   \n",
       "..                      ...        ...          ...              ...   \n",
       "628            Sairaj Patil    20 Lakh       BATTER              NaN   \n",
       "629              Monu Singh    20 Lakh       BOWLER              NaN   \n",
       "630  Nivethan Radhakrishnan    20 Lakh       BOWLER              NaN   \n",
       "631            Lance Morris    20 Lakh       BOWLER              NaN   \n",
       "632            Aaron Hardie    20 Lakh  ALL-ROUNDER              NaN   \n",
       "\n",
       "     Cost IN $ (000) 2021 Squad    Team  \n",
       "237              NaN        CSK  Unsold  \n",
       "238              NaN         DC  Unsold  \n",
       "239              NaN        KKR  Unsold  \n",
       "240              NaN         DC  Unsold  \n",
       "241              NaN       PBKS  Unsold  \n",
       "..               ...        ...     ...  \n",
       "628              NaN        NaN  Unsold  \n",
       "629              NaN        NaN  Unsold  \n",
       "630              NaN        NaN  Unsold  \n",
       "631              NaN        NaN  Unsold  \n",
       "632              NaN        NaN  Unsold  \n",
       "\n",
       "[396 rows x 7 columns]"
      ]
     },
     "execution_count": 16,
     "metadata": {},
     "output_type": "execute_result"
    }
   ],
   "source": [
    "df[df['Cost IN $ (000)'].isnull()]"
   ]
  },
  {
   "cell_type": "markdown",
   "id": "517be6bc",
   "metadata": {
    "papermill": {
     "duration": 0.074791,
     "end_time": "2022-03-02T04:30:13.157057",
     "exception": false,
     "start_time": "2022-03-02T04:30:13.082266",
     "status": "completed"
    },
    "tags": []
   },
   "source": [
    "*These are the Players which went Unsold in 2022 Auctions so their Cost we can replace with ZERO*"
   ]
  },
  {
   "cell_type": "code",
   "execution_count": 17,
   "id": "17ef1da4",
   "metadata": {
    "papermill": {
     "duration": 0.084828,
     "end_time": "2022-03-02T04:30:13.317356",
     "exception": false,
     "start_time": "2022-03-02T04:30:13.232528",
     "status": "completed"
    },
    "tags": []
   },
   "outputs": [],
   "source": [
    "df['COST IN ₹ (CR.)'] = df['COST IN ₹ (CR.)'].fillna(0)\n",
    "df['Cost IN $ (000)'] = df['Cost IN $ (000)'].fillna(0)"
   ]
  },
  {
   "cell_type": "markdown",
   "id": "cbcf5604",
   "metadata": {
    "execution": {
     "iopub.execute_input": "2022-03-01T04:56:07.936343Z",
     "iopub.status.busy": "2022-03-01T04:56:07.936095Z",
     "iopub.status.idle": "2022-03-01T04:56:07.945041Z",
     "shell.execute_reply": "2022-03-01T04:56:07.944213Z",
     "shell.execute_reply.started": "2022-03-01T04:56:07.936318Z"
    },
    "papermill": {
     "duration": 0.075309,
     "end_time": "2022-03-02T04:30:13.469208",
     "exception": false,
     "start_time": "2022-03-02T04:30:13.393899",
     "status": "completed"
    },
    "tags": []
   },
   "source": [
    "**Treating Null Values in 2021 Squad**"
   ]
  },
  {
   "cell_type": "code",
   "execution_count": 18,
   "id": "2d4fad6c",
   "metadata": {
    "papermill": {
     "duration": 0.096296,
     "end_time": "2022-03-02T04:30:13.640404",
     "exception": false,
     "start_time": "2022-03-02T04:30:13.544108",
     "status": "completed"
    },
    "tags": []
   },
   "outputs": [
    {
     "data": {
      "text/html": [
       "<div>\n",
       "<style scoped>\n",
       "    .dataframe tbody tr th:only-of-type {\n",
       "        vertical-align: middle;\n",
       "    }\n",
       "\n",
       "    .dataframe tbody tr th {\n",
       "        vertical-align: top;\n",
       "    }\n",
       "\n",
       "    .dataframe thead th {\n",
       "        text-align: right;\n",
       "    }\n",
       "</style>\n",
       "<table border=\"1\" class=\"dataframe\">\n",
       "  <thead>\n",
       "    <tr style=\"text-align: right;\">\n",
       "      <th></th>\n",
       "      <th>Player</th>\n",
       "      <th>Base Price</th>\n",
       "      <th>TYPE</th>\n",
       "      <th>COST IN ₹ (CR.)</th>\n",
       "      <th>Cost IN $ (000)</th>\n",
       "      <th>2021 Squad</th>\n",
       "      <th>Team</th>\n",
       "    </tr>\n",
       "  </thead>\n",
       "  <tbody>\n",
       "    <tr>\n",
       "      <th>6</th>\n",
       "      <td>Yash Dayal</td>\n",
       "      <td>20 Lakh</td>\n",
       "      <td>BOWLER</td>\n",
       "      <td>3.2</td>\n",
       "      <td>416.0</td>\n",
       "      <td>NaN</td>\n",
       "      <td>Gujarat Titans</td>\n",
       "    </tr>\n",
       "    <tr>\n",
       "      <th>9</th>\n",
       "      <td>Abhinav Sadarangani</td>\n",
       "      <td>20 Lakh</td>\n",
       "      <td>BATTER</td>\n",
       "      <td>2.6</td>\n",
       "      <td>338.0</td>\n",
       "      <td>NaN</td>\n",
       "      <td>Gujarat Titans</td>\n",
       "    </tr>\n",
       "    <tr>\n",
       "      <th>10</th>\n",
       "      <td>Matthew Wade</td>\n",
       "      <td>2 Cr</td>\n",
       "      <td>WICKETKEEPER</td>\n",
       "      <td>2.4</td>\n",
       "      <td>312.0</td>\n",
       "      <td>NaN</td>\n",
       "      <td>Gujarat Titans</td>\n",
       "    </tr>\n",
       "    <tr>\n",
       "      <th>11</th>\n",
       "      <td>Alzarri Joseph</td>\n",
       "      <td>75 Lakh</td>\n",
       "      <td>BOWLER</td>\n",
       "      <td>2.4</td>\n",
       "      <td>312.0</td>\n",
       "      <td>NaN</td>\n",
       "      <td>Gujarat Titans</td>\n",
       "    </tr>\n",
       "    <tr>\n",
       "      <th>17</th>\n",
       "      <td>Varun Aaron</td>\n",
       "      <td>50 Lakh</td>\n",
       "      <td>BOWLER</td>\n",
       "      <td>0.5</td>\n",
       "      <td>65.0</td>\n",
       "      <td>NaN</td>\n",
       "      <td>Gujarat Titans</td>\n",
       "    </tr>\n",
       "    <tr>\n",
       "      <th>...</th>\n",
       "      <td>...</td>\n",
       "      <td>...</td>\n",
       "      <td>...</td>\n",
       "      <td>...</td>\n",
       "      <td>...</td>\n",
       "      <td>...</td>\n",
       "      <td>...</td>\n",
       "    </tr>\n",
       "    <tr>\n",
       "      <th>628</th>\n",
       "      <td>Sairaj Patil</td>\n",
       "      <td>20 Lakh</td>\n",
       "      <td>BATTER</td>\n",
       "      <td>0.0</td>\n",
       "      <td>0.0</td>\n",
       "      <td>NaN</td>\n",
       "      <td>Unsold</td>\n",
       "    </tr>\n",
       "    <tr>\n",
       "      <th>629</th>\n",
       "      <td>Monu Singh</td>\n",
       "      <td>20 Lakh</td>\n",
       "      <td>BOWLER</td>\n",
       "      <td>0.0</td>\n",
       "      <td>0.0</td>\n",
       "      <td>NaN</td>\n",
       "      <td>Unsold</td>\n",
       "    </tr>\n",
       "    <tr>\n",
       "      <th>630</th>\n",
       "      <td>Nivethan Radhakrishnan</td>\n",
       "      <td>20 Lakh</td>\n",
       "      <td>BOWLER</td>\n",
       "      <td>0.0</td>\n",
       "      <td>0.0</td>\n",
       "      <td>NaN</td>\n",
       "      <td>Unsold</td>\n",
       "    </tr>\n",
       "    <tr>\n",
       "      <th>631</th>\n",
       "      <td>Lance Morris</td>\n",
       "      <td>20 Lakh</td>\n",
       "      <td>BOWLER</td>\n",
       "      <td>0.0</td>\n",
       "      <td>0.0</td>\n",
       "      <td>NaN</td>\n",
       "      <td>Unsold</td>\n",
       "    </tr>\n",
       "    <tr>\n",
       "      <th>632</th>\n",
       "      <td>Aaron Hardie</td>\n",
       "      <td>20 Lakh</td>\n",
       "      <td>ALL-ROUNDER</td>\n",
       "      <td>0.0</td>\n",
       "      <td>0.0</td>\n",
       "      <td>NaN</td>\n",
       "      <td>Unsold</td>\n",
       "    </tr>\n",
       "  </tbody>\n",
       "</table>\n",
       "<p>434 rows × 7 columns</p>\n",
       "</div>"
      ],
      "text/plain": [
       "                     Player Base Price          TYPE  COST IN ₹ (CR.)  \\\n",
       "6                Yash Dayal    20 Lakh        BOWLER              3.2   \n",
       "9       Abhinav Sadarangani    20 Lakh        BATTER              2.6   \n",
       "10             Matthew Wade       2 Cr  WICKETKEEPER              2.4   \n",
       "11           Alzarri Joseph    75 Lakh        BOWLER              2.4   \n",
       "17              Varun Aaron    50 Lakh        BOWLER              0.5   \n",
       "..                      ...        ...           ...              ...   \n",
       "628            Sairaj Patil    20 Lakh        BATTER              0.0   \n",
       "629              Monu Singh    20 Lakh        BOWLER              0.0   \n",
       "630  Nivethan Radhakrishnan    20 Lakh        BOWLER              0.0   \n",
       "631            Lance Morris    20 Lakh        BOWLER              0.0   \n",
       "632            Aaron Hardie    20 Lakh   ALL-ROUNDER              0.0   \n",
       "\n",
       "     Cost IN $ (000) 2021 Squad            Team  \n",
       "6              416.0        NaN  Gujarat Titans  \n",
       "9              338.0        NaN  Gujarat Titans  \n",
       "10             312.0        NaN  Gujarat Titans  \n",
       "11             312.0        NaN  Gujarat Titans  \n",
       "17              65.0        NaN  Gujarat Titans  \n",
       "..               ...        ...             ...  \n",
       "628              0.0        NaN          Unsold  \n",
       "629              0.0        NaN          Unsold  \n",
       "630              0.0        NaN          Unsold  \n",
       "631              0.0        NaN          Unsold  \n",
       "632              0.0        NaN          Unsold  \n",
       "\n",
       "[434 rows x 7 columns]"
      ]
     },
     "execution_count": 18,
     "metadata": {},
     "output_type": "execute_result"
    }
   ],
   "source": [
    "df[df['2021 Squad'].isnull()]"
   ]
  },
  {
   "cell_type": "markdown",
   "id": "056128aa",
   "metadata": {
    "papermill": {
     "duration": 0.076175,
     "end_time": "2022-03-02T04:30:13.794022",
     "exception": false,
     "start_time": "2022-03-02T04:30:13.717847",
     "status": "completed"
    },
    "tags": []
   },
   "source": [
    "**These are the Players who either went Unsold in 2021 IPL or participating for the first time in IPL**"
   ]
  },
  {
   "cell_type": "code",
   "execution_count": 19,
   "id": "bb65ff15",
   "metadata": {
    "papermill": {
     "duration": 0.084117,
     "end_time": "2022-03-02T04:30:13.957142",
     "exception": false,
     "start_time": "2022-03-02T04:30:13.873025",
     "status": "completed"
    },
    "tags": []
   },
   "outputs": [],
   "source": [
    "df['2021 Squad'] = df['2021 Squad'].fillna('Not Participated in IPL 2021')"
   ]
  },
  {
   "cell_type": "code",
   "execution_count": 20,
   "id": "cea9580c",
   "metadata": {
    "papermill": {
     "duration": 0.090056,
     "end_time": "2022-03-02T04:30:14.123839",
     "exception": false,
     "start_time": "2022-03-02T04:30:14.033783",
     "status": "completed"
    },
    "tags": []
   },
   "outputs": [
    {
     "data": {
      "text/plain": [
       "Player             0\n",
       "Base Price         0\n",
       "TYPE               0\n",
       "COST IN ₹ (CR.)    0\n",
       "Cost IN $ (000)    0\n",
       "2021 Squad         0\n",
       "Team               0\n",
       "dtype: int64"
      ]
     },
     "execution_count": 20,
     "metadata": {},
     "output_type": "execute_result"
    }
   ],
   "source": [
    "df.isnull().sum()"
   ]
  },
  {
   "cell_type": "markdown",
   "id": "a513bfd6",
   "metadata": {
    "papermill": {
     "duration": 0.077447,
     "end_time": "2022-03-02T04:30:14.279512",
     "exception": false,
     "start_time": "2022-03-02T04:30:14.202065",
     "status": "completed"
    },
    "tags": []
   },
   "source": [
    "**We replaced all the null values**"
   ]
  },
  {
   "cell_type": "markdown",
   "id": "e20686c6",
   "metadata": {
    "papermill": {
     "duration": 0.079077,
     "end_time": "2022-03-02T04:30:14.452577",
     "exception": false,
     "start_time": "2022-03-02T04:30:14.373500",
     "status": "completed"
    },
    "tags": []
   },
   "source": [
    "**Now we will add and Adjust few columns for further Analysis**"
   ]
  },
  {
   "cell_type": "code",
   "execution_count": 21,
   "id": "0b9ac899",
   "metadata": {
    "papermill": {
     "duration": 0.086865,
     "end_time": "2022-03-02T04:30:14.615446",
     "exception": false,
     "start_time": "2022-03-02T04:30:14.528581",
     "status": "completed"
    },
    "tags": []
   },
   "outputs": [
    {
     "data": {
      "text/plain": [
       "array(['Gujarat Titans', 'Chennai Super Kings', 'Delhi Capitals',\n",
       "       'Kolkata Knight Riders', 'Punjab Kings', 'Lucknow Super Giants',\n",
       "       'Mumbai Indians', 'Royal Challengers Bangalore',\n",
       "       'Rajasthan Royals', 'Sunrisers Hyderabad'], dtype=object)"
      ]
     },
     "execution_count": 21,
     "metadata": {},
     "output_type": "execute_result"
    }
   ],
   "source": [
    "teams = df[df['COST IN ₹ (CR.)']>0]['Team'].unique()\n",
    "teams"
   ]
  },
  {
   "cell_type": "code",
   "execution_count": 22,
   "id": "a156519e",
   "metadata": {
    "papermill": {
     "duration": 0.086687,
     "end_time": "2022-03-02T04:30:14.779509",
     "exception": false,
     "start_time": "2022-03-02T04:30:14.692822",
     "status": "completed"
    },
    "tags": []
   },
   "outputs": [],
   "source": [
    "df['status'] = df['Team'].replace(teams,'sold')"
   ]
  },
  {
   "cell_type": "code",
   "execution_count": 23,
   "id": "1ae4a4b8",
   "metadata": {
    "papermill": {
     "duration": 0.088056,
     "end_time": "2022-03-02T04:30:14.944722",
     "exception": false,
     "start_time": "2022-03-02T04:30:14.856666",
     "status": "completed"
    },
    "tags": []
   },
   "outputs": [
    {
     "data": {
      "text/plain": [
       "array(['Draft Pick', '2 Cr', '40 Lakh', '20 Lakh', '1 Cr', '75 Lakh',\n",
       "       '50 Lakh', '30 Lakh', 'Retained', '1.5 Cr'], dtype=object)"
      ]
     },
     "execution_count": 23,
     "metadata": {},
     "output_type": "execute_result"
    }
   ],
   "source": [
    "df['Base Price'].unique()"
   ]
  },
  {
   "cell_type": "code",
   "execution_count": 24,
   "id": "251fc7e5",
   "metadata": {
    "papermill": {
     "duration": 0.085916,
     "end_time": "2022-03-02T04:30:15.108910",
     "exception": false,
     "start_time": "2022-03-02T04:30:15.022994",
     "status": "completed"
    },
    "tags": []
   },
   "outputs": [],
   "source": [
    "df['retention'] = df['Base Price']"
   ]
  },
  {
   "cell_type": "code",
   "execution_count": 25,
   "id": "6af79690",
   "metadata": {
    "papermill": {
     "duration": 0.089032,
     "end_time": "2022-03-02T04:30:15.275907",
     "exception": false,
     "start_time": "2022-03-02T04:30:15.186875",
     "status": "completed"
    },
    "tags": []
   },
   "outputs": [],
   "source": [
    "df['retention'].replace(['2 Cr', '40 Lakh', '20 Lakh', '1 Cr', '75 Lakh',\n",
    "       '50 Lakh', '30 Lakh','1.5 Cr'],'In Auction', inplace = True)"
   ]
  },
  {
   "cell_type": "markdown",
   "id": "d4f28e57",
   "metadata": {
    "papermill": {
     "duration": 0.077768,
     "end_time": "2022-03-02T04:30:15.432196",
     "exception": false,
     "start_time": "2022-03-02T04:30:15.354428",
     "status": "completed"
    },
    "tags": []
   },
   "source": [
    "*Treating Base Price Column*"
   ]
  },
  {
   "cell_type": "code",
   "execution_count": 26,
   "id": "273428bd",
   "metadata": {
    "papermill": {
     "duration": 0.086626,
     "end_time": "2022-03-02T04:30:15.596440",
     "exception": false,
     "start_time": "2022-03-02T04:30:15.509814",
     "status": "completed"
    },
    "tags": []
   },
   "outputs": [],
   "source": [
    "df['Base Price'].replace('Draft Pick',0, inplace = True)"
   ]
  },
  {
   "cell_type": "code",
   "execution_count": 27,
   "id": "bca2bb49",
   "metadata": {
    "papermill": {
     "duration": 0.088434,
     "end_time": "2022-03-02T04:30:15.762713",
     "exception": false,
     "start_time": "2022-03-02T04:30:15.674279",
     "status": "completed"
    },
    "tags": []
   },
   "outputs": [],
   "source": [
    "df['base_price_unit'] = df['Base Price'].apply(lambda x: str(x).split(' ')[-1])\n",
    "df['base_price'] = df['Base Price'].apply(lambda x: str(x).split(' ')[0])"
   ]
  },
  {
   "cell_type": "code",
   "execution_count": 28,
   "id": "ebf684d1",
   "metadata": {
    "papermill": {
     "duration": 0.084789,
     "end_time": "2022-03-02T04:30:15.926081",
     "exception": false,
     "start_time": "2022-03-02T04:30:15.841292",
     "status": "completed"
    },
    "tags": []
   },
   "outputs": [],
   "source": [
    "df['base_price'].replace('Retained',0,inplace=True)"
   ]
  },
  {
   "cell_type": "code",
   "execution_count": 29,
   "id": "63986b40",
   "metadata": {
    "papermill": {
     "duration": 0.085868,
     "end_time": "2022-03-02T04:30:16.089614",
     "exception": false,
     "start_time": "2022-03-02T04:30:16.003746",
     "status": "completed"
    },
    "tags": []
   },
   "outputs": [
    {
     "data": {
      "text/plain": [
       "array(['0', 'Cr', 'Lakh', 'Retained'], dtype=object)"
      ]
     },
     "execution_count": 29,
     "metadata": {},
     "output_type": "execute_result"
    }
   ],
   "source": [
    "df['base_price_unit'].unique()"
   ]
  },
  {
   "cell_type": "code",
   "execution_count": 30,
   "id": "b8291ce6",
   "metadata": {
    "papermill": {
     "duration": 0.086547,
     "end_time": "2022-03-02T04:30:16.253550",
     "exception": false,
     "start_time": "2022-03-02T04:30:16.167003",
     "status": "completed"
    },
    "tags": []
   },
   "outputs": [],
   "source": [
    "df['base_price_unit'] = df['base_price_unit'].replace({'Cr':100,'Lakh':1,'Retained':0})"
   ]
  },
  {
   "cell_type": "code",
   "execution_count": 31,
   "id": "762cd90a",
   "metadata": {
    "papermill": {
     "duration": 0.086631,
     "end_time": "2022-03-02T04:30:16.419327",
     "exception": false,
     "start_time": "2022-03-02T04:30:16.332696",
     "status": "completed"
    },
    "tags": []
   },
   "outputs": [],
   "source": [
    "df['base_price'] = df['base_price'].astype(float)\n",
    "df['base_price_unit'] = df['base_price_unit'].astype(int)"
   ]
  },
  {
   "cell_type": "code",
   "execution_count": 32,
   "id": "565215d3",
   "metadata": {
    "papermill": {
     "duration": 0.090095,
     "end_time": "2022-03-02T04:30:16.588244",
     "exception": false,
     "start_time": "2022-03-02T04:30:16.498149",
     "status": "completed"
    },
    "tags": []
   },
   "outputs": [],
   "source": [
    "df['base_price'] = df['base_price']*df['base_price_unit']"
   ]
  },
  {
   "cell_type": "code",
   "execution_count": 33,
   "id": "bebe81e9",
   "metadata": {
    "papermill": {
     "duration": 0.09645,
     "end_time": "2022-03-02T04:30:16.762627",
     "exception": false,
     "start_time": "2022-03-02T04:30:16.666177",
     "status": "completed"
    },
    "tags": []
   },
   "outputs": [
    {
     "data": {
      "text/html": [
       "<div>\n",
       "<style scoped>\n",
       "    .dataframe tbody tr th:only-of-type {\n",
       "        vertical-align: middle;\n",
       "    }\n",
       "\n",
       "    .dataframe tbody tr th {\n",
       "        vertical-align: top;\n",
       "    }\n",
       "\n",
       "    .dataframe thead th {\n",
       "        text-align: right;\n",
       "    }\n",
       "</style>\n",
       "<table border=\"1\" class=\"dataframe\">\n",
       "  <thead>\n",
       "    <tr style=\"text-align: right;\">\n",
       "      <th></th>\n",
       "      <th>Player</th>\n",
       "      <th>Base Price</th>\n",
       "      <th>TYPE</th>\n",
       "      <th>COST IN ₹ (CR.)</th>\n",
       "      <th>Cost IN $ (000)</th>\n",
       "      <th>2021 Squad</th>\n",
       "      <th>Team</th>\n",
       "      <th>status</th>\n",
       "      <th>retention</th>\n",
       "      <th>base_price_unit</th>\n",
       "      <th>base_price</th>\n",
       "    </tr>\n",
       "  </thead>\n",
       "  <tbody>\n",
       "    <tr>\n",
       "      <th>0</th>\n",
       "      <td>Rashid Khan</td>\n",
       "      <td>0</td>\n",
       "      <td>BOWLER</td>\n",
       "      <td>15.0</td>\n",
       "      <td>1950.0</td>\n",
       "      <td>SRH</td>\n",
       "      <td>Gujarat Titans</td>\n",
       "      <td>sold</td>\n",
       "      <td>Draft Pick</td>\n",
       "      <td>0</td>\n",
       "      <td>0.0</td>\n",
       "    </tr>\n",
       "    <tr>\n",
       "      <th>1</th>\n",
       "      <td>Hardik Pandya</td>\n",
       "      <td>0</td>\n",
       "      <td>ALL-ROUNDER</td>\n",
       "      <td>15.0</td>\n",
       "      <td>1950.0</td>\n",
       "      <td>MI</td>\n",
       "      <td>Gujarat Titans</td>\n",
       "      <td>sold</td>\n",
       "      <td>Draft Pick</td>\n",
       "      <td>0</td>\n",
       "      <td>0.0</td>\n",
       "    </tr>\n",
       "    <tr>\n",
       "      <th>2</th>\n",
       "      <td>Lockie Ferguson</td>\n",
       "      <td>2 Cr</td>\n",
       "      <td>BOWLER</td>\n",
       "      <td>10.0</td>\n",
       "      <td>1300.0</td>\n",
       "      <td>KKR</td>\n",
       "      <td>Gujarat Titans</td>\n",
       "      <td>sold</td>\n",
       "      <td>In Auction</td>\n",
       "      <td>100</td>\n",
       "      <td>200.0</td>\n",
       "    </tr>\n",
       "    <tr>\n",
       "      <th>3</th>\n",
       "      <td>Rahul Tewatia</td>\n",
       "      <td>40 Lakh</td>\n",
       "      <td>ALL-ROUNDER</td>\n",
       "      <td>9.0</td>\n",
       "      <td>1170.0</td>\n",
       "      <td>RR</td>\n",
       "      <td>Gujarat Titans</td>\n",
       "      <td>sold</td>\n",
       "      <td>In Auction</td>\n",
       "      <td>1</td>\n",
       "      <td>40.0</td>\n",
       "    </tr>\n",
       "    <tr>\n",
       "      <th>4</th>\n",
       "      <td>Shubman Gill</td>\n",
       "      <td>0</td>\n",
       "      <td>BATTER</td>\n",
       "      <td>8.0</td>\n",
       "      <td>1040.0</td>\n",
       "      <td>KKR</td>\n",
       "      <td>Gujarat Titans</td>\n",
       "      <td>sold</td>\n",
       "      <td>Draft Pick</td>\n",
       "      <td>0</td>\n",
       "      <td>0.0</td>\n",
       "    </tr>\n",
       "  </tbody>\n",
       "</table>\n",
       "</div>"
      ],
      "text/plain": [
       "            Player Base Price         TYPE  COST IN ₹ (CR.)  Cost IN $ (000)  \\\n",
       "0      Rashid Khan          0       BOWLER             15.0           1950.0   \n",
       "1    Hardik Pandya          0  ALL-ROUNDER             15.0           1950.0   \n",
       "2  Lockie Ferguson       2 Cr       BOWLER             10.0           1300.0   \n",
       "3    Rahul Tewatia    40 Lakh  ALL-ROUNDER              9.0           1170.0   \n",
       "4     Shubman Gill          0       BATTER              8.0           1040.0   \n",
       "\n",
       "  2021 Squad            Team status   retention  base_price_unit  base_price  \n",
       "0        SRH  Gujarat Titans   sold  Draft Pick                0         0.0  \n",
       "1         MI  Gujarat Titans   sold  Draft Pick                0         0.0  \n",
       "2        KKR  Gujarat Titans   sold  In Auction              100       200.0  \n",
       "3         RR  Gujarat Titans   sold  In Auction                1        40.0  \n",
       "4        KKR  Gujarat Titans   sold  Draft Pick                0         0.0  "
      ]
     },
     "execution_count": 33,
     "metadata": {},
     "output_type": "execute_result"
    }
   ],
   "source": [
    "df.head()"
   ]
  },
  {
   "cell_type": "code",
   "execution_count": 34,
   "id": "a8f0f093",
   "metadata": {
    "papermill": {
     "duration": 0.086593,
     "end_time": "2022-03-02T04:30:16.927058",
     "exception": false,
     "start_time": "2022-03-02T04:30:16.840465",
     "status": "completed"
    },
    "tags": []
   },
   "outputs": [],
   "source": [
    "df.drop(['Base Price','base_price_unit'], axis =1, inplace = True)"
   ]
  },
  {
   "cell_type": "code",
   "execution_count": 35,
   "id": "17cf0b06",
   "metadata": {
    "papermill": {
     "duration": 0.120656,
     "end_time": "2022-03-02T04:30:17.131589",
     "exception": false,
     "start_time": "2022-03-02T04:30:17.010933",
     "status": "completed"
    },
    "tags": []
   },
   "outputs": [
    {
     "data": {
      "text/html": [
       "<div>\n",
       "<style scoped>\n",
       "    .dataframe tbody tr th:only-of-type {\n",
       "        vertical-align: middle;\n",
       "    }\n",
       "\n",
       "    .dataframe tbody tr th {\n",
       "        vertical-align: top;\n",
       "    }\n",
       "\n",
       "    .dataframe thead th {\n",
       "        text-align: right;\n",
       "    }\n",
       "</style>\n",
       "<table border=\"1\" class=\"dataframe\">\n",
       "  <thead>\n",
       "    <tr style=\"text-align: right;\">\n",
       "      <th></th>\n",
       "      <th>Player</th>\n",
       "      <th>TYPE</th>\n",
       "      <th>COST IN ₹ (CR.)</th>\n",
       "      <th>Cost IN $ (000)</th>\n",
       "      <th>2021 Squad</th>\n",
       "      <th>Team</th>\n",
       "      <th>status</th>\n",
       "      <th>retention</th>\n",
       "      <th>base_price</th>\n",
       "    </tr>\n",
       "  </thead>\n",
       "  <tbody>\n",
       "    <tr>\n",
       "      <th>0</th>\n",
       "      <td>Rashid Khan</td>\n",
       "      <td>BOWLER</td>\n",
       "      <td>15.0</td>\n",
       "      <td>1950.0</td>\n",
       "      <td>SRH</td>\n",
       "      <td>Gujarat Titans</td>\n",
       "      <td>sold</td>\n",
       "      <td>Draft Pick</td>\n",
       "      <td>0.0</td>\n",
       "    </tr>\n",
       "    <tr>\n",
       "      <th>1</th>\n",
       "      <td>Hardik Pandya</td>\n",
       "      <td>ALL-ROUNDER</td>\n",
       "      <td>15.0</td>\n",
       "      <td>1950.0</td>\n",
       "      <td>MI</td>\n",
       "      <td>Gujarat Titans</td>\n",
       "      <td>sold</td>\n",
       "      <td>Draft Pick</td>\n",
       "      <td>0.0</td>\n",
       "    </tr>\n",
       "    <tr>\n",
       "      <th>2</th>\n",
       "      <td>Lockie Ferguson</td>\n",
       "      <td>BOWLER</td>\n",
       "      <td>10.0</td>\n",
       "      <td>1300.0</td>\n",
       "      <td>KKR</td>\n",
       "      <td>Gujarat Titans</td>\n",
       "      <td>sold</td>\n",
       "      <td>In Auction</td>\n",
       "      <td>200.0</td>\n",
       "    </tr>\n",
       "    <tr>\n",
       "      <th>3</th>\n",
       "      <td>Rahul Tewatia</td>\n",
       "      <td>ALL-ROUNDER</td>\n",
       "      <td>9.0</td>\n",
       "      <td>1170.0</td>\n",
       "      <td>RR</td>\n",
       "      <td>Gujarat Titans</td>\n",
       "      <td>sold</td>\n",
       "      <td>In Auction</td>\n",
       "      <td>40.0</td>\n",
       "    </tr>\n",
       "    <tr>\n",
       "      <th>4</th>\n",
       "      <td>Shubman Gill</td>\n",
       "      <td>BATTER</td>\n",
       "      <td>8.0</td>\n",
       "      <td>1040.0</td>\n",
       "      <td>KKR</td>\n",
       "      <td>Gujarat Titans</td>\n",
       "      <td>sold</td>\n",
       "      <td>Draft Pick</td>\n",
       "      <td>0.0</td>\n",
       "    </tr>\n",
       "    <tr>\n",
       "      <th>...</th>\n",
       "      <td>...</td>\n",
       "      <td>...</td>\n",
       "      <td>...</td>\n",
       "      <td>...</td>\n",
       "      <td>...</td>\n",
       "      <td>...</td>\n",
       "      <td>...</td>\n",
       "      <td>...</td>\n",
       "      <td>...</td>\n",
       "    </tr>\n",
       "    <tr>\n",
       "      <th>628</th>\n",
       "      <td>Sairaj Patil</td>\n",
       "      <td>BATTER</td>\n",
       "      <td>0.0</td>\n",
       "      <td>0.0</td>\n",
       "      <td>Not Participated in IPL 2021</td>\n",
       "      <td>Unsold</td>\n",
       "      <td>Unsold</td>\n",
       "      <td>In Auction</td>\n",
       "      <td>20.0</td>\n",
       "    </tr>\n",
       "    <tr>\n",
       "      <th>629</th>\n",
       "      <td>Monu Singh</td>\n",
       "      <td>BOWLER</td>\n",
       "      <td>0.0</td>\n",
       "      <td>0.0</td>\n",
       "      <td>Not Participated in IPL 2021</td>\n",
       "      <td>Unsold</td>\n",
       "      <td>Unsold</td>\n",
       "      <td>In Auction</td>\n",
       "      <td>20.0</td>\n",
       "    </tr>\n",
       "    <tr>\n",
       "      <th>630</th>\n",
       "      <td>Nivethan Radhakrishnan</td>\n",
       "      <td>BOWLER</td>\n",
       "      <td>0.0</td>\n",
       "      <td>0.0</td>\n",
       "      <td>Not Participated in IPL 2021</td>\n",
       "      <td>Unsold</td>\n",
       "      <td>Unsold</td>\n",
       "      <td>In Auction</td>\n",
       "      <td>20.0</td>\n",
       "    </tr>\n",
       "    <tr>\n",
       "      <th>631</th>\n",
       "      <td>Lance Morris</td>\n",
       "      <td>BOWLER</td>\n",
       "      <td>0.0</td>\n",
       "      <td>0.0</td>\n",
       "      <td>Not Participated in IPL 2021</td>\n",
       "      <td>Unsold</td>\n",
       "      <td>Unsold</td>\n",
       "      <td>In Auction</td>\n",
       "      <td>20.0</td>\n",
       "    </tr>\n",
       "    <tr>\n",
       "      <th>632</th>\n",
       "      <td>Aaron Hardie</td>\n",
       "      <td>ALL-ROUNDER</td>\n",
       "      <td>0.0</td>\n",
       "      <td>0.0</td>\n",
       "      <td>Not Participated in IPL 2021</td>\n",
       "      <td>Unsold</td>\n",
       "      <td>Unsold</td>\n",
       "      <td>In Auction</td>\n",
       "      <td>20.0</td>\n",
       "    </tr>\n",
       "  </tbody>\n",
       "</table>\n",
       "<p>633 rows × 9 columns</p>\n",
       "</div>"
      ],
      "text/plain": [
       "                     Player         TYPE  COST IN ₹ (CR.)  Cost IN $ (000)  \\\n",
       "0               Rashid Khan       BOWLER             15.0           1950.0   \n",
       "1             Hardik Pandya  ALL-ROUNDER             15.0           1950.0   \n",
       "2           Lockie Ferguson       BOWLER             10.0           1300.0   \n",
       "3             Rahul Tewatia  ALL-ROUNDER              9.0           1170.0   \n",
       "4              Shubman Gill       BATTER              8.0           1040.0   \n",
       "..                      ...          ...              ...              ...   \n",
       "628            Sairaj Patil       BATTER              0.0              0.0   \n",
       "629              Monu Singh       BOWLER              0.0              0.0   \n",
       "630  Nivethan Radhakrishnan       BOWLER              0.0              0.0   \n",
       "631            Lance Morris       BOWLER              0.0              0.0   \n",
       "632            Aaron Hardie  ALL-ROUNDER              0.0              0.0   \n",
       "\n",
       "                       2021 Squad            Team  status   retention  \\\n",
       "0                             SRH  Gujarat Titans    sold  Draft Pick   \n",
       "1                              MI  Gujarat Titans    sold  Draft Pick   \n",
       "2                             KKR  Gujarat Titans    sold  In Auction   \n",
       "3                              RR  Gujarat Titans    sold  In Auction   \n",
       "4                             KKR  Gujarat Titans    sold  Draft Pick   \n",
       "..                            ...             ...     ...         ...   \n",
       "628  Not Participated in IPL 2021          Unsold  Unsold  In Auction   \n",
       "629  Not Participated in IPL 2021          Unsold  Unsold  In Auction   \n",
       "630  Not Participated in IPL 2021          Unsold  Unsold  In Auction   \n",
       "631  Not Participated in IPL 2021          Unsold  Unsold  In Auction   \n",
       "632  Not Participated in IPL 2021          Unsold  Unsold  In Auction   \n",
       "\n",
       "     base_price  \n",
       "0           0.0  \n",
       "1           0.0  \n",
       "2         200.0  \n",
       "3          40.0  \n",
       "4           0.0  \n",
       "..          ...  \n",
       "628        20.0  \n",
       "629        20.0  \n",
       "630        20.0  \n",
       "631        20.0  \n",
       "632        20.0  \n",
       "\n",
       "[633 rows x 9 columns]"
      ]
     },
     "execution_count": 35,
     "metadata": {},
     "output_type": "execute_result"
    }
   ],
   "source": [
    "df"
   ]
  },
  {
   "cell_type": "code",
   "execution_count": 36,
   "id": "a83f42f7",
   "metadata": {
    "papermill": {
     "duration": 0.087559,
     "end_time": "2022-03-02T04:30:17.297621",
     "exception": false,
     "start_time": "2022-03-02T04:30:17.210062",
     "status": "completed"
    },
    "tags": []
   },
   "outputs": [],
   "source": [
    "df['COST IN ₹ (CR.)'] = df['COST IN ₹ (CR.)']*100"
   ]
  },
  {
   "cell_type": "code",
   "execution_count": 37,
   "id": "65cee6d8",
   "metadata": {
    "papermill": {
     "duration": 0.086576,
     "end_time": "2022-03-02T04:30:17.462910",
     "exception": false,
     "start_time": "2022-03-02T04:30:17.376334",
     "status": "completed"
    },
    "tags": []
   },
   "outputs": [],
   "source": [
    "df = df.rename(columns={'TYPE':'Type','COST IN ₹ (CR.)':'Sold_for_lakh','Cost IN $ (000)':'Cost_in_dollars','2021 Squad':'Prev_team','Team':'Curr_team'})"
   ]
  },
  {
   "cell_type": "code",
   "execution_count": 38,
   "id": "8f7336de",
   "metadata": {
    "papermill": {
     "duration": 0.098492,
     "end_time": "2022-03-02T04:30:17.640535",
     "exception": false,
     "start_time": "2022-03-02T04:30:17.542043",
     "status": "completed"
    },
    "tags": []
   },
   "outputs": [
    {
     "data": {
      "text/html": [
       "<div>\n",
       "<style scoped>\n",
       "    .dataframe tbody tr th:only-of-type {\n",
       "        vertical-align: middle;\n",
       "    }\n",
       "\n",
       "    .dataframe tbody tr th {\n",
       "        vertical-align: top;\n",
       "    }\n",
       "\n",
       "    .dataframe thead th {\n",
       "        text-align: right;\n",
       "    }\n",
       "</style>\n",
       "<table border=\"1\" class=\"dataframe\">\n",
       "  <thead>\n",
       "    <tr style=\"text-align: right;\">\n",
       "      <th></th>\n",
       "      <th>Player</th>\n",
       "      <th>Type</th>\n",
       "      <th>Sold_for_lakh</th>\n",
       "      <th>Cost_in_dollars</th>\n",
       "      <th>Prev_team</th>\n",
       "      <th>Curr_team</th>\n",
       "      <th>status</th>\n",
       "      <th>retention</th>\n",
       "      <th>base_price</th>\n",
       "    </tr>\n",
       "  </thead>\n",
       "  <tbody>\n",
       "    <tr>\n",
       "      <th>0</th>\n",
       "      <td>Rashid Khan</td>\n",
       "      <td>BOWLER</td>\n",
       "      <td>1500.0</td>\n",
       "      <td>1950.0</td>\n",
       "      <td>SRH</td>\n",
       "      <td>Gujarat Titans</td>\n",
       "      <td>sold</td>\n",
       "      <td>Draft Pick</td>\n",
       "      <td>0.0</td>\n",
       "    </tr>\n",
       "    <tr>\n",
       "      <th>1</th>\n",
       "      <td>Hardik Pandya</td>\n",
       "      <td>ALL-ROUNDER</td>\n",
       "      <td>1500.0</td>\n",
       "      <td>1950.0</td>\n",
       "      <td>MI</td>\n",
       "      <td>Gujarat Titans</td>\n",
       "      <td>sold</td>\n",
       "      <td>Draft Pick</td>\n",
       "      <td>0.0</td>\n",
       "    </tr>\n",
       "    <tr>\n",
       "      <th>2</th>\n",
       "      <td>Lockie Ferguson</td>\n",
       "      <td>BOWLER</td>\n",
       "      <td>1000.0</td>\n",
       "      <td>1300.0</td>\n",
       "      <td>KKR</td>\n",
       "      <td>Gujarat Titans</td>\n",
       "      <td>sold</td>\n",
       "      <td>In Auction</td>\n",
       "      <td>200.0</td>\n",
       "    </tr>\n",
       "    <tr>\n",
       "      <th>3</th>\n",
       "      <td>Rahul Tewatia</td>\n",
       "      <td>ALL-ROUNDER</td>\n",
       "      <td>900.0</td>\n",
       "      <td>1170.0</td>\n",
       "      <td>RR</td>\n",
       "      <td>Gujarat Titans</td>\n",
       "      <td>sold</td>\n",
       "      <td>In Auction</td>\n",
       "      <td>40.0</td>\n",
       "    </tr>\n",
       "    <tr>\n",
       "      <th>4</th>\n",
       "      <td>Shubman Gill</td>\n",
       "      <td>BATTER</td>\n",
       "      <td>800.0</td>\n",
       "      <td>1040.0</td>\n",
       "      <td>KKR</td>\n",
       "      <td>Gujarat Titans</td>\n",
       "      <td>sold</td>\n",
       "      <td>Draft Pick</td>\n",
       "      <td>0.0</td>\n",
       "    </tr>\n",
       "  </tbody>\n",
       "</table>\n",
       "</div>"
      ],
      "text/plain": [
       "            Player         Type  Sold_for_lakh  Cost_in_dollars Prev_team  \\\n",
       "0      Rashid Khan       BOWLER         1500.0           1950.0       SRH   \n",
       "1    Hardik Pandya  ALL-ROUNDER         1500.0           1950.0        MI   \n",
       "2  Lockie Ferguson       BOWLER         1000.0           1300.0       KKR   \n",
       "3    Rahul Tewatia  ALL-ROUNDER          900.0           1170.0        RR   \n",
       "4     Shubman Gill       BATTER          800.0           1040.0       KKR   \n",
       "\n",
       "        Curr_team status   retention  base_price  \n",
       "0  Gujarat Titans   sold  Draft Pick         0.0  \n",
       "1  Gujarat Titans   sold  Draft Pick         0.0  \n",
       "2  Gujarat Titans   sold  In Auction       200.0  \n",
       "3  Gujarat Titans   sold  In Auction        40.0  \n",
       "4  Gujarat Titans   sold  Draft Pick         0.0  "
      ]
     },
     "execution_count": 38,
     "metadata": {},
     "output_type": "execute_result"
    }
   ],
   "source": [
    "df.head()"
   ]
  },
  {
   "cell_type": "markdown",
   "id": "db76ad25",
   "metadata": {
    "papermill": {
     "duration": 0.080243,
     "end_time": "2022-03-02T04:30:17.800535",
     "exception": false,
     "start_time": "2022-03-02T04:30:17.720292",
     "status": "completed"
    },
    "tags": []
   },
   "source": [
    "**We will Check Duplicate Players**"
   ]
  },
  {
   "cell_type": "code",
   "execution_count": 39,
   "id": "bb063d49",
   "metadata": {
    "papermill": {
     "duration": 0.101997,
     "end_time": "2022-03-02T04:30:17.983339",
     "exception": false,
     "start_time": "2022-03-02T04:30:17.881342",
     "status": "completed"
    },
    "tags": []
   },
   "outputs": [
    {
     "data": {
      "text/html": [
       "<div>\n",
       "<style scoped>\n",
       "    .dataframe tbody tr th:only-of-type {\n",
       "        vertical-align: middle;\n",
       "    }\n",
       "\n",
       "    .dataframe tbody tr th {\n",
       "        vertical-align: top;\n",
       "    }\n",
       "\n",
       "    .dataframe thead th {\n",
       "        text-align: right;\n",
       "    }\n",
       "</style>\n",
       "<table border=\"1\" class=\"dataframe\">\n",
       "  <thead>\n",
       "    <tr style=\"text-align: right;\">\n",
       "      <th></th>\n",
       "      <th>Player</th>\n",
       "      <th>Type</th>\n",
       "      <th>Sold_for_lakh</th>\n",
       "      <th>Cost_in_dollars</th>\n",
       "      <th>Prev_team</th>\n",
       "      <th>Curr_team</th>\n",
       "      <th>status</th>\n",
       "      <th>retention</th>\n",
       "      <th>base_price</th>\n",
       "    </tr>\n",
       "  </thead>\n",
       "  <tbody>\n",
       "    <tr>\n",
       "      <th>62</th>\n",
       "      <td>Lalit Yadav</td>\n",
       "      <td>ALL-ROUNDER</td>\n",
       "      <td>65.0</td>\n",
       "      <td>84.5</td>\n",
       "      <td>DC</td>\n",
       "      <td>Delhi Capitals</td>\n",
       "      <td>sold</td>\n",
       "      <td>In Auction</td>\n",
       "      <td>20.0</td>\n",
       "    </tr>\n",
       "    <tr>\n",
       "      <th>240</th>\n",
       "      <td>Amit Mishra</td>\n",
       "      <td>BOWLER</td>\n",
       "      <td>0.0</td>\n",
       "      <td>0.0</td>\n",
       "      <td>DC</td>\n",
       "      <td>Unsold</td>\n",
       "      <td>Unsold</td>\n",
       "      <td>In Auction</td>\n",
       "      <td>150.0</td>\n",
       "    </tr>\n",
       "    <tr>\n",
       "      <th>499</th>\n",
       "      <td>Amit Mishra</td>\n",
       "      <td>BOWLER</td>\n",
       "      <td>0.0</td>\n",
       "      <td>0.0</td>\n",
       "      <td>Not Participated in IPL 2021</td>\n",
       "      <td>Unsold</td>\n",
       "      <td>Unsold</td>\n",
       "      <td>In Auction</td>\n",
       "      <td>20.0</td>\n",
       "    </tr>\n",
       "    <tr>\n",
       "      <th>518</th>\n",
       "      <td>Shivam Sharma</td>\n",
       "      <td>ALL-ROUNDER</td>\n",
       "      <td>0.0</td>\n",
       "      <td>0.0</td>\n",
       "      <td>Not Participated in IPL 2021</td>\n",
       "      <td>Unsold</td>\n",
       "      <td>Unsold</td>\n",
       "      <td>In Auction</td>\n",
       "      <td>20.0</td>\n",
       "    </tr>\n",
       "    <tr>\n",
       "      <th>530</th>\n",
       "      <td>Lalit Yadav</td>\n",
       "      <td>BOWLER</td>\n",
       "      <td>0.0</td>\n",
       "      <td>0.0</td>\n",
       "      <td>Not Participated in IPL 2021</td>\n",
       "      <td>Unsold</td>\n",
       "      <td>Unsold</td>\n",
       "      <td>In Auction</td>\n",
       "      <td>20.0</td>\n",
       "    </tr>\n",
       "    <tr>\n",
       "      <th>537</th>\n",
       "      <td>Shubham Singh</td>\n",
       "      <td>ALL-ROUNDER</td>\n",
       "      <td>0.0</td>\n",
       "      <td>0.0</td>\n",
       "      <td>Not Participated in IPL 2021</td>\n",
       "      <td>Unsold</td>\n",
       "      <td>Unsold</td>\n",
       "      <td>In Auction</td>\n",
       "      <td>20.0</td>\n",
       "    </tr>\n",
       "    <tr>\n",
       "      <th>544</th>\n",
       "      <td>Shubham Singh</td>\n",
       "      <td>BOWLER</td>\n",
       "      <td>0.0</td>\n",
       "      <td>0.0</td>\n",
       "      <td>Not Participated in IPL 2021</td>\n",
       "      <td>Unsold</td>\n",
       "      <td>Unsold</td>\n",
       "      <td>In Auction</td>\n",
       "      <td>20.0</td>\n",
       "    </tr>\n",
       "    <tr>\n",
       "      <th>569</th>\n",
       "      <td>Shivam Sharma</td>\n",
       "      <td>ALL-ROUNDER</td>\n",
       "      <td>0.0</td>\n",
       "      <td>0.0</td>\n",
       "      <td>Not Participated in IPL 2021</td>\n",
       "      <td>Unsold</td>\n",
       "      <td>Unsold</td>\n",
       "      <td>In Auction</td>\n",
       "      <td>20.0</td>\n",
       "    </tr>\n",
       "  </tbody>\n",
       "</table>\n",
       "</div>"
      ],
      "text/plain": [
       "            Player         Type  Sold_for_lakh  Cost_in_dollars  \\\n",
       "62     Lalit Yadav  ALL-ROUNDER           65.0             84.5   \n",
       "240    Amit Mishra       BOWLER            0.0              0.0   \n",
       "499    Amit Mishra       BOWLER            0.0              0.0   \n",
       "518  Shivam Sharma  ALL-ROUNDER            0.0              0.0   \n",
       "530    Lalit Yadav       BOWLER            0.0              0.0   \n",
       "537  Shubham Singh  ALL-ROUNDER            0.0              0.0   \n",
       "544  Shubham Singh       BOWLER            0.0              0.0   \n",
       "569  Shivam Sharma  ALL-ROUNDER            0.0              0.0   \n",
       "\n",
       "                        Prev_team       Curr_team  status   retention  \\\n",
       "62                             DC  Delhi Capitals    sold  In Auction   \n",
       "240                            DC          Unsold  Unsold  In Auction   \n",
       "499  Not Participated in IPL 2021          Unsold  Unsold  In Auction   \n",
       "518  Not Participated in IPL 2021          Unsold  Unsold  In Auction   \n",
       "530  Not Participated in IPL 2021          Unsold  Unsold  In Auction   \n",
       "537  Not Participated in IPL 2021          Unsold  Unsold  In Auction   \n",
       "544  Not Participated in IPL 2021          Unsold  Unsold  In Auction   \n",
       "569  Not Participated in IPL 2021          Unsold  Unsold  In Auction   \n",
       "\n",
       "     base_price  \n",
       "62         20.0  \n",
       "240       150.0  \n",
       "499        20.0  \n",
       "518        20.0  \n",
       "530        20.0  \n",
       "537        20.0  \n",
       "544        20.0  \n",
       "569        20.0  "
      ]
     },
     "execution_count": 39,
     "metadata": {},
     "output_type": "execute_result"
    }
   ],
   "source": [
    "df[df['Player'].duplicated(keep=False)]"
   ]
  },
  {
   "cell_type": "markdown",
   "id": "974b76e2",
   "metadata": {
    "papermill": {
     "duration": 0.079367,
     "end_time": "2022-03-02T04:30:18.143240",
     "exception": false,
     "start_time": "2022-03-02T04:30:18.063873",
     "status": "completed"
    },
    "tags": []
   },
   "source": [
    "> *Yes There are duplicate rows but the fact is that the names of players are same but the Players are different*"
   ]
  },
  {
   "cell_type": "markdown",
   "id": "a5c10d2a",
   "metadata": {
    "papermill": {
     "duration": 0.080468,
     "end_time": "2022-03-02T04:30:18.303821",
     "exception": false,
     "start_time": "2022-03-02T04:30:18.223353",
     "status": "completed"
    },
    "tags": []
   },
   "source": [
    "### Our Data is Ready for Analysis"
   ]
  },
  {
   "cell_type": "markdown",
   "id": "a46a25e5",
   "metadata": {
    "papermill": {
     "duration": 0.079373,
     "end_time": "2022-03-02T04:30:18.463235",
     "exception": false,
     "start_time": "2022-03-02T04:30:18.383862",
     "status": "completed"
    },
    "tags": []
   },
   "source": [
    "#### Now I have a list of Questions asked by friend and I will be tring to answer those questions below."
   ]
  },
  {
   "cell_type": "markdown",
   "id": "5921003b",
   "metadata": {
    "papermill": {
     "duration": 0.078945,
     "end_time": "2022-03-02T04:30:18.623917",
     "exception": false,
     "start_time": "2022-03-02T04:30:18.544972",
     "status": "completed"
    },
    "tags": []
   },
   "source": [
    "****"
   ]
  },
  {
   "cell_type": "markdown",
   "id": "381d3dc7",
   "metadata": {
    "papermill": {
     "duration": 0.07982,
     "end_time": "2022-03-02T04:30:18.784851",
     "exception": false,
     "start_time": "2022-03-02T04:30:18.705031",
     "status": "completed"
    },
    "tags": []
   },
   "source": [
    "**1. How many players participated in the Auction 2022 ?**"
   ]
  },
  {
   "cell_type": "code",
   "execution_count": 40,
   "id": "18ed3f98",
   "metadata": {
    "papermill": {
     "duration": 0.089347,
     "end_time": "2022-03-02T04:30:18.954355",
     "exception": false,
     "start_time": "2022-03-02T04:30:18.865008",
     "status": "completed"
    },
    "tags": []
   },
   "outputs": [
    {
     "data": {
      "text/plain": [
       "633"
      ]
     },
     "execution_count": 40,
     "metadata": {},
     "output_type": "execute_result"
    }
   ],
   "source": [
    "df.shape[0]"
   ]
  },
  {
   "cell_type": "markdown",
   "id": "c0f4abc7",
   "metadata": {
    "papermill": {
     "duration": 0.080265,
     "end_time": "2022-03-02T04:30:19.115668",
     "exception": false,
     "start_time": "2022-03-02T04:30:19.035403",
     "status": "completed"
    },
    "tags": []
   },
   "source": [
    "> *There wre 633 Players appeared for TATA IPL 2022*"
   ]
  },
  {
   "cell_type": "markdown",
   "id": "8e315071",
   "metadata": {
    "papermill": {
     "duration": 0.080709,
     "end_time": "2022-03-02T04:30:19.276884",
     "exception": false,
     "start_time": "2022-03-02T04:30:19.196175",
     "status": "completed"
    },
    "tags": []
   },
   "source": [
    "**2. Participation based on the Role(Batsman, Bowlers, Allrounders and WK)**"
   ]
  },
  {
   "cell_type": "code",
   "execution_count": 41,
   "id": "2ad4791b",
   "metadata": {
    "papermill": {
     "duration": 0.097288,
     "end_time": "2022-03-02T04:30:19.455373",
     "exception": false,
     "start_time": "2022-03-02T04:30:19.358085",
     "status": "completed"
    },
    "tags": []
   },
   "outputs": [
    {
     "data": {
      "text/html": [
       "<div>\n",
       "<style scoped>\n",
       "    .dataframe tbody tr th:only-of-type {\n",
       "        vertical-align: middle;\n",
       "    }\n",
       "\n",
       "    .dataframe tbody tr th {\n",
       "        vertical-align: top;\n",
       "    }\n",
       "\n",
       "    .dataframe thead th {\n",
       "        text-align: right;\n",
       "    }\n",
       "</style>\n",
       "<table border=\"1\" class=\"dataframe\">\n",
       "  <thead>\n",
       "    <tr style=\"text-align: right;\">\n",
       "      <th></th>\n",
       "      <th>Type</th>\n",
       "      <th>count</th>\n",
       "    </tr>\n",
       "  </thead>\n",
       "  <tbody>\n",
       "    <tr>\n",
       "      <th>0</th>\n",
       "      <td>ALL-ROUNDER</td>\n",
       "      <td>242</td>\n",
       "    </tr>\n",
       "    <tr>\n",
       "      <th>1</th>\n",
       "      <td>BOWLER</td>\n",
       "      <td>215</td>\n",
       "    </tr>\n",
       "    <tr>\n",
       "      <th>2</th>\n",
       "      <td>BATTER</td>\n",
       "      <td>112</td>\n",
       "    </tr>\n",
       "    <tr>\n",
       "      <th>3</th>\n",
       "      <td>WICKETKEEPER</td>\n",
       "      <td>64</td>\n",
       "    </tr>\n",
       "  </tbody>\n",
       "</table>\n",
       "</div>"
      ],
      "text/plain": [
       "           Type  count\n",
       "0   ALL-ROUNDER    242\n",
       "1        BOWLER    215\n",
       "2        BATTER    112\n",
       "3  WICKETKEEPER     64"
      ]
     },
     "execution_count": 41,
     "metadata": {},
     "output_type": "execute_result"
    }
   ],
   "source": [
    "types = df['Type'].value_counts()\n",
    "types.reset_index()"
   ]
  },
  {
   "cell_type": "code",
   "execution_count": 42,
   "id": "7cfe15a5",
   "metadata": {
    "papermill": {
     "duration": 0.27831,
     "end_time": "2022-03-02T04:30:19.823543",
     "exception": false,
     "start_time": "2022-03-02T04:30:19.545233",
     "status": "completed"
    },
    "tags": []
   },
   "outputs": [
    {
     "data": {
      "text/plain": [
       "[]"
      ]
     },
     "execution_count": 42,
     "metadata": {},
     "output_type": "execute_result"
    },
    {
     "data": {
      "image/png": "[encoded data removed]",
      "text/plain": [
       "<Figure size 640x480 with 1 Axes>"
      ]
     },
     "metadata": {},
     "output_type": "display_data"
    }
   ],
   "source": [
    "plt.pie(types.values, labels=types.index,labeldistance=1.2,autopct='%1.2f%%')\n",
    "plt.title('Role of Players Participated', fontsize = 15)\n",
    "plt.plot()"
   ]
  },
  {
   "cell_type": "markdown",
   "id": "98e034fc",
   "metadata": {
    "papermill": {
     "duration": 0.083203,
     "end_time": "2022-03-02T04:30:20.016334",
     "exception": false,
     "start_time": "2022-03-02T04:30:19.933131",
     "status": "completed"
    },
    "tags": []
   },
   "source": [
    "> *Maximum Players in Auction were All-Rounders Followed by Bowlers,Batter and WicketKeepers*"
   ]
  },
  {
   "cell_type": "markdown",
   "id": "1d6d0d91",
   "metadata": {
    "papermill": {
     "duration": 0.082062,
     "end_time": "2022-03-02T04:30:20.180759",
     "exception": false,
     "start_time": "2022-03-02T04:30:20.098697",
     "status": "completed"
    },
    "tags": []
   },
   "source": [
    "**3. How many Players Were Sold in IPL 2022 Auctions ?**"
   ]
  },
  {
   "cell_type": "markdown",
   "id": "359145e0",
   "metadata": {
    "papermill": {
     "duration": 0.08275,
     "end_time": "2022-03-02T04:30:20.717071",
     "exception": false,
     "start_time": "2022-03-02T04:30:20.634321",
     "status": "completed"
    },
    "tags": []
   },
   "source": [
    "> *In Auction 237 were Sold and 396 were Unsold.*"
   ]
  },
  {
   "cell_type": "markdown",
   "id": "a9358329",
   "metadata": {
    "papermill": {
     "duration": 0.083468,
     "end_time": "2022-03-02T04:30:20.885153",
     "exception": false,
     "start_time": "2022-03-02T04:30:20.801685",
     "status": "completed"
    },
    "tags": []
   },
   "source": [
    "**4. How many Players Brought by Each Team**"
   ]
  },
  {
   "cell_type": "code",
   "execution_count": 43,
   "id": "5f8cc9a5",
   "metadata": {
    "papermill": {
     "duration": 0.102468,
     "end_time": "2022-03-02T04:30:21.072625",
     "exception": false,
     "start_time": "2022-03-02T04:30:20.970157",
     "status": "completed"
    },
    "tags": []
   },
   "outputs": [
    {
     "data": {
      "text/html": [
       "<div>\n",
       "<style scoped>\n",
       "    .dataframe tbody tr th:only-of-type {\n",
       "        vertical-align: middle;\n",
       "    }\n",
       "\n",
       "    .dataframe tbody tr th {\n",
       "        vertical-align: top;\n",
       "    }\n",
       "\n",
       "    .dataframe thead th {\n",
       "        text-align: right;\n",
       "    }\n",
       "</style>\n",
       "<table border=\"1\" class=\"dataframe\">\n",
       "  <thead>\n",
       "    <tr style=\"text-align: right;\">\n",
       "      <th></th>\n",
       "      <th>Player</th>\n",
       "      <th>Type</th>\n",
       "      <th>Sold_for_lakh</th>\n",
       "      <th>Cost_in_dollars</th>\n",
       "      <th>Prev_team</th>\n",
       "      <th>Curr_team</th>\n",
       "      <th>status</th>\n",
       "      <th>retention</th>\n",
       "      <th>base_price</th>\n",
       "    </tr>\n",
       "  </thead>\n",
       "  <tbody>\n",
       "    <tr>\n",
       "      <th>24</th>\n",
       "      <td>MS Dhoni</td>\n",
       "      <td>WICKETKEEPER</td>\n",
       "      <td>1200.0</td>\n",
       "      <td>1560.0</td>\n",
       "      <td>CSK</td>\n",
       "      <td>Chennai Super Kings</td>\n",
       "      <td>sold</td>\n",
       "      <td>Retained</td>\n",
       "      <td>0.0</td>\n",
       "    </tr>\n",
       "  </tbody>\n",
       "</table>\n",
       "</div>"
      ],
      "text/plain": [
       "      Player          Type  Sold_for_lakh  Cost_in_dollars Prev_team  \\\n",
       "24  MS Dhoni  WICKETKEEPER         1200.0           1560.0       CSK   \n",
       "\n",
       "              Curr_team status retention  base_price  \n",
       "24  Chennai Super Kings   sold  Retained         0.0  "
      ]
     },
     "execution_count": 43,
     "metadata": {},
     "output_type": "execute_result"
    }
   ],
   "source": [
    "df.sample()"
   ]
  },
  {
   "cell_type": "code",
   "execution_count": 44,
   "id": "1d462715",
   "metadata": {
    "papermill": {
     "duration": 0.440628,
     "end_time": "2022-03-02T04:30:21.597340",
     "exception": false,
     "start_time": "2022-03-02T04:30:21.156712",
     "status": "completed"
    },
    "tags": []
   },
   "outputs": [
    {
     "ename": "TypeError",
     "evalue": "list indices must be integers or slices, not str",
     "output_type": "error",
     "traceback": [
      "\u001b[1;31m---------------------------------------------------------------------------\u001b[0m",
      "\u001b[1;31mTypeError\u001b[0m                                 Traceback (most recent call last)",
      "Cell \u001b[1;32mIn[44], line 2\u001b[0m\n\u001b[0;32m      1\u001b[0m plt\u001b[38;5;241m.\u001b[39mfigure(figsize\u001b[38;5;241m=\u001b[39m(\u001b[38;5;241m20\u001b[39m,\u001b[38;5;241m10\u001b[39m))\n\u001b[1;32m----> 2\u001b[0m fig \u001b[38;5;241m=\u001b[39m sns\u001b[38;5;241m.\u001b[39mcountplot(df[df[\u001b[38;5;124m'\u001b[39m\u001b[38;5;124mCurr_team\u001b[39m\u001b[38;5;124m'\u001b[39m]\u001b[38;5;241m!=\u001b[39m[\u001b[38;5;124m'\u001b[39m\u001b[38;5;124mUnsold\u001b[39m\u001b[38;5;124m'\u001b[39m][\u001b[38;5;124m'\u001b[39m\u001b[38;5;124mCurr_team\u001b[39m\u001b[38;5;124m'\u001b[39m]])\n\u001b[0;32m      3\u001b[0m plt\u001b[38;5;241m.\u001b[39mxlabel(\u001b[38;5;124m'\u001b[39m\u001b[38;5;124mName of Team\u001b[39m\u001b[38;5;124m'\u001b[39m)\n\u001b[0;32m      4\u001b[0m plt\u001b[38;5;241m.\u001b[39mylabel(\u001b[38;5;124m'\u001b[39m\u001b[38;5;124mNumber of Players\u001b[39m\u001b[38;5;124m'\u001b[39m)\n",
      "\u001b[1;31mTypeError\u001b[0m: list indices must be integers or slices, not str"
     ]
    },
    {
     "data": {
      "text/plain": [
       "<Figure size 2000x1000 with 0 Axes>"
      ]
     },
     "metadata": {},
     "output_type": "display_data"
    }
   ],
   "source": [
    "plt.figure(figsize=(20,10))\n",
    "fig = sns.countplot(df[df['Curr_team']!=['Unsold']['Curr_team']])\n",
    "plt.xlabel('Name of Team')\n",
    "plt.ylabel('Number of Players')\n",
    "plt.title('Players Brought by each Team', fontsize=15)\n",
    "plt.xticks(rotation=90)\n",
    "plt.plot()\n",
    "\n",
    "for p in fig.patches:\n",
    "    fig.annotate(format(p.get_height(), '.0f'), (p.get_x() + p.get_width()/2., p.get_height()), ha = 'center', va = 'center', xytext = (0, 4), textcoords = 'offset points')"
   ]
  },
  {
   "cell_type": "markdown",
   "id": "9d7ecd9e",
   "metadata": {
    "papermill": {
     "duration": 0.084974,
     "end_time": "2022-03-02T04:30:21.768546",
     "exception": false,
     "start_time": "2022-03-02T04:30:21.683572",
     "status": "completed"
    },
    "tags": []
   },
   "source": [
    "**5. How many players Retained/DraftPicked by Each team ?**"
   ]
  },
  {
   "cell_type": "code",
   "execution_count": 45,
   "id": "2bc3f2f4",
   "metadata": {
    "papermill": {
     "duration": 0.098806,
     "end_time": "2022-03-02T04:30:21.953552",
     "exception": false,
     "start_time": "2022-03-02T04:30:21.854746",
     "status": "completed"
    },
    "tags": []
   },
   "outputs": [
    {
     "data": {
      "text/plain": [
       "Curr_team                    retention \n",
       "Chennai Super Kings          In Auction    21\n",
       "                             Retained       4\n",
       "Delhi Capitals               In Auction    20\n",
       "                             Retained       4\n",
       "Gujarat Titans               Draft Pick     3\n",
       "                             In Auction    19\n",
       "Kolkata Knight Riders        In Auction    21\n",
       "                             Retained       4\n",
       "Lucknow Super Giants         Draft Pick     3\n",
       "                             In Auction    19\n",
       "Mumbai Indians               In Auction    21\n",
       "                             Retained       4\n",
       "Punjab Kings                 In Auction    23\n",
       "                             Retained       2\n",
       "Rajasthan Royals             In Auction    21\n",
       "                             Retained       3\n",
       "Royal Challengers Bangalore  In Auction    19\n",
       "                             Retained       3\n",
       "Sunrisers Hyderabad          In Auction    20\n",
       "                             Retained       3\n",
       "Name: retention, dtype: int64"
      ]
     },
     "execution_count": 45,
     "metadata": {},
     "output_type": "execute_result"
    }
   ],
   "source": [
    "df.groupby(['Curr_team','retention'])['retention'].count()[:-1]"
   ]
  },
  {
   "cell_type": "markdown",
   "id": "1c6ac358",
   "metadata": {
    "papermill": {
     "duration": 0.085434,
     "end_time": "2022-03-02T04:30:22.125141",
     "exception": false,
     "start_time": "2022-03-02T04:30:22.039707",
     "status": "completed"
    },
    "tags": []
   },
   "source": [
    "**5. How many Players were Braught for each Role**"
   ]
  },
  {
   "cell_type": "code",
   "execution_count": 46,
   "id": "a3035a7c",
   "metadata": {
    "papermill": {
     "duration": 0.10161,
     "end_time": "2022-03-02T04:30:22.312485",
     "exception": false,
     "start_time": "2022-03-02T04:30:22.210875",
     "status": "completed"
    },
    "tags": []
   },
   "outputs": [
    {
     "data": {
      "text/html": [
       "<div>\n",
       "<style scoped>\n",
       "    .dataframe tbody tr th:only-of-type {\n",
       "        vertical-align: middle;\n",
       "    }\n",
       "\n",
       "    .dataframe tbody tr th {\n",
       "        vertical-align: top;\n",
       "    }\n",
       "\n",
       "    .dataframe thead th {\n",
       "        text-align: right;\n",
       "    }\n",
       "</style>\n",
       "<table border=\"1\" class=\"dataframe\">\n",
       "  <thead>\n",
       "    <tr style=\"text-align: right;\">\n",
       "      <th></th>\n",
       "      <th>Type</th>\n",
       "      <th>status</th>\n",
       "      <th>Player</th>\n",
       "    </tr>\n",
       "  </thead>\n",
       "  <tbody>\n",
       "    <tr>\n",
       "      <th>0</th>\n",
       "      <td>ALL-ROUNDER</td>\n",
       "      <td>Unsold</td>\n",
       "      <td>154</td>\n",
       "    </tr>\n",
       "    <tr>\n",
       "      <th>1</th>\n",
       "      <td>ALL-ROUNDER</td>\n",
       "      <td>sold</td>\n",
       "      <td>88</td>\n",
       "    </tr>\n",
       "    <tr>\n",
       "      <th>2</th>\n",
       "      <td>BATTER</td>\n",
       "      <td>Unsold</td>\n",
       "      <td>67</td>\n",
       "    </tr>\n",
       "    <tr>\n",
       "      <th>3</th>\n",
       "      <td>BATTER</td>\n",
       "      <td>sold</td>\n",
       "      <td>45</td>\n",
       "    </tr>\n",
       "    <tr>\n",
       "      <th>4</th>\n",
       "      <td>BOWLER</td>\n",
       "      <td>Unsold</td>\n",
       "      <td>138</td>\n",
       "    </tr>\n",
       "    <tr>\n",
       "      <th>5</th>\n",
       "      <td>BOWLER</td>\n",
       "      <td>sold</td>\n",
       "      <td>77</td>\n",
       "    </tr>\n",
       "    <tr>\n",
       "      <th>6</th>\n",
       "      <td>WICKETKEEPER</td>\n",
       "      <td>Unsold</td>\n",
       "      <td>37</td>\n",
       "    </tr>\n",
       "    <tr>\n",
       "      <th>7</th>\n",
       "      <td>WICKETKEEPER</td>\n",
       "      <td>sold</td>\n",
       "      <td>27</td>\n",
       "    </tr>\n",
       "  </tbody>\n",
       "</table>\n",
       "</div>"
      ],
      "text/plain": [
       "           Type  status  Player\n",
       "0   ALL-ROUNDER  Unsold     154\n",
       "1   ALL-ROUNDER    sold      88\n",
       "2        BATTER  Unsold      67\n",
       "3        BATTER    sold      45\n",
       "4        BOWLER  Unsold     138\n",
       "5        BOWLER    sold      77\n",
       "6  WICKETKEEPER  Unsold      37\n",
       "7  WICKETKEEPER    sold      27"
      ]
     },
     "execution_count": 46,
     "metadata": {},
     "output_type": "execute_result"
    }
   ],
   "source": [
    "df.groupby(['Type','status'])['Player'].count().reset_index()"
   ]
  },
  {
   "cell_type": "markdown",
   "id": "a14171e0",
   "metadata": {
    "papermill": {
     "duration": 0.087579,
     "end_time": "2022-03-02T04:30:22.486190",
     "exception": false,
     "start_time": "2022-03-02T04:30:22.398611",
     "status": "completed"
    },
    "tags": []
   },
   "source": [
    "**6. Which Are the players who participated in IPL 2021 and will be participating in IPL 2022 and playing in same team**"
   ]
  },
  {
   "cell_type": "code",
   "execution_count": 47,
   "id": "b295db93",
   "metadata": {
    "papermill": {
     "duration": 0.098389,
     "end_time": "2022-03-02T04:30:22.671238",
     "exception": false,
     "start_time": "2022-03-02T04:30:22.572849",
     "status": "completed"
    },
    "tags": []
   },
   "outputs": [],
   "source": [
    "df.replace({'SRH':'Sunrisers Hyderabad','CSK':'Chennai Super Kings','MI':'Mumbai Indians','KKR':'Kolkata Knight Riders','RR':'Rajasthan Royals','PBKS':'Punjab Kings','DC':'Delhi Capitals','RCB':'Royal Challengers Bangalore'},inplace =True)"
   ]
  },
  {
   "cell_type": "code",
   "execution_count": 48,
   "id": "d7283d0e",
   "metadata": {
    "papermill": {
     "duration": 0.122355,
     "end_time": "2022-03-02T04:30:22.879620",
     "exception": false,
     "start_time": "2022-03-02T04:30:22.757265",
     "status": "completed"
    },
    "tags": []
   },
   "outputs": [
    {
     "data": {
      "text/html": [
       "<div>\n",
       "<style scoped>\n",
       "    .dataframe tbody tr th:only-of-type {\n",
       "        vertical-align: middle;\n",
       "    }\n",
       "\n",
       "    .dataframe tbody tr th {\n",
       "        vertical-align: top;\n",
       "    }\n",
       "\n",
       "    .dataframe thead th {\n",
       "        text-align: right;\n",
       "    }\n",
       "</style>\n",
       "<table border=\"1\" class=\"dataframe\">\n",
       "  <thead>\n",
       "    <tr style=\"text-align: right;\">\n",
       "      <th></th>\n",
       "      <th>Player</th>\n",
       "      <th>Type</th>\n",
       "      <th>Sold_for_lakh</th>\n",
       "      <th>Cost_in_dollars</th>\n",
       "      <th>Prev_team</th>\n",
       "      <th>Curr_team</th>\n",
       "      <th>status</th>\n",
       "      <th>retention</th>\n",
       "      <th>base_price</th>\n",
       "    </tr>\n",
       "  </thead>\n",
       "  <tbody>\n",
       "    <tr>\n",
       "      <th>23</th>\n",
       "      <td>Deepak Chahar</td>\n",
       "      <td>BOWLER</td>\n",
       "      <td>1400.0</td>\n",
       "      <td>1820.0</td>\n",
       "      <td>Chennai Super Kings</td>\n",
       "      <td>Chennai Super Kings</td>\n",
       "      <td>sold</td>\n",
       "      <td>In Auction</td>\n",
       "      <td>200.0</td>\n",
       "    </tr>\n",
       "    <tr>\n",
       "      <th>26</th>\n",
       "      <td>Ambati Rayudu</td>\n",
       "      <td>WICKETKEEPER</td>\n",
       "      <td>675.0</td>\n",
       "      <td>877.5</td>\n",
       "      <td>Chennai Super Kings</td>\n",
       "      <td>Chennai Super Kings</td>\n",
       "      <td>sold</td>\n",
       "      <td>In Auction</td>\n",
       "      <td>200.0</td>\n",
       "    </tr>\n",
       "    <tr>\n",
       "      <th>28</th>\n",
       "      <td>Dwayne Bravo</td>\n",
       "      <td>ALL-ROUNDER</td>\n",
       "      <td>440.0</td>\n",
       "      <td>572.0</td>\n",
       "      <td>Chennai Super Kings</td>\n",
       "      <td>Chennai Super Kings</td>\n",
       "      <td>sold</td>\n",
       "      <td>In Auction</td>\n",
       "      <td>200.0</td>\n",
       "    </tr>\n",
       "    <tr>\n",
       "      <th>31</th>\n",
       "      <td>Robin Uthappa</td>\n",
       "      <td>BATTER</td>\n",
       "      <td>200.0</td>\n",
       "      <td>260.0</td>\n",
       "      <td>Chennai Super Kings</td>\n",
       "      <td>Chennai Super Kings</td>\n",
       "      <td>sold</td>\n",
       "      <td>In Auction</td>\n",
       "      <td>200.0</td>\n",
       "    </tr>\n",
       "    <tr>\n",
       "      <th>32</th>\n",
       "      <td>Mitchell Santner</td>\n",
       "      <td>ALL-ROUNDER</td>\n",
       "      <td>190.0</td>\n",
       "      <td>247.0</td>\n",
       "      <td>Chennai Super Kings</td>\n",
       "      <td>Chennai Super Kings</td>\n",
       "      <td>sold</td>\n",
       "      <td>In Auction</td>\n",
       "      <td>100.0</td>\n",
       "    </tr>\n",
       "    <tr>\n",
       "      <th>39</th>\n",
       "      <td>K.Bhagath Varma</td>\n",
       "      <td>ALL-ROUNDER</td>\n",
       "      <td>20.0</td>\n",
       "      <td>26.0</td>\n",
       "      <td>Chennai Super Kings</td>\n",
       "      <td>Chennai Super Kings</td>\n",
       "      <td>sold</td>\n",
       "      <td>In Auction</td>\n",
       "      <td>20.0</td>\n",
       "    </tr>\n",
       "    <tr>\n",
       "      <th>41</th>\n",
       "      <td>N. Jagadeesan</td>\n",
       "      <td>WICKETKEEPER</td>\n",
       "      <td>20.0</td>\n",
       "      <td>26.0</td>\n",
       "      <td>Chennai Super Kings</td>\n",
       "      <td>Chennai Super Kings</td>\n",
       "      <td>sold</td>\n",
       "      <td>In Auction</td>\n",
       "      <td>20.0</td>\n",
       "    </tr>\n",
       "    <tr>\n",
       "      <th>42</th>\n",
       "      <td>C.Hari Nishaanth</td>\n",
       "      <td>BATTER</td>\n",
       "      <td>20.0</td>\n",
       "      <td>26.0</td>\n",
       "      <td>Chennai Super Kings</td>\n",
       "      <td>Chennai Super Kings</td>\n",
       "      <td>sold</td>\n",
       "      <td>In Auction</td>\n",
       "      <td>20.0</td>\n",
       "    </tr>\n",
       "    <tr>\n",
       "      <th>43</th>\n",
       "      <td>K.M. Asif</td>\n",
       "      <td>BOWLER</td>\n",
       "      <td>20.0</td>\n",
       "      <td>26.0</td>\n",
       "      <td>Chennai Super Kings</td>\n",
       "      <td>Chennai Super Kings</td>\n",
       "      <td>sold</td>\n",
       "      <td>In Auction</td>\n",
       "      <td>20.0</td>\n",
       "    </tr>\n",
       "    <tr>\n",
       "      <th>62</th>\n",
       "      <td>Lalit Yadav</td>\n",
       "      <td>ALL-ROUNDER</td>\n",
       "      <td>65.0</td>\n",
       "      <td>84.5</td>\n",
       "      <td>Delhi Capitals</td>\n",
       "      <td>Delhi Capitals</td>\n",
       "      <td>sold</td>\n",
       "      <td>In Auction</td>\n",
       "      <td>20.0</td>\n",
       "    </tr>\n",
       "    <tr>\n",
       "      <th>64</th>\n",
       "      <td>Pravin Dubey</td>\n",
       "      <td>ALL-ROUNDER</td>\n",
       "      <td>50.0</td>\n",
       "      <td>65.0</td>\n",
       "      <td>Delhi Capitals</td>\n",
       "      <td>Delhi Capitals</td>\n",
       "      <td>sold</td>\n",
       "      <td>In Auction</td>\n",
       "      <td>20.0</td>\n",
       "    </tr>\n",
       "    <tr>\n",
       "      <th>69</th>\n",
       "      <td>Ripal Patel</td>\n",
       "      <td>ALL-ROUNDER</td>\n",
       "      <td>20.0</td>\n",
       "      <td>26.0</td>\n",
       "      <td>Delhi Capitals</td>\n",
       "      <td>Delhi Capitals</td>\n",
       "      <td>sold</td>\n",
       "      <td>In Auction</td>\n",
       "      <td>20.0</td>\n",
       "    </tr>\n",
       "    <tr>\n",
       "      <th>73</th>\n",
       "      <td>Nitish Rana</td>\n",
       "      <td>ALL-ROUNDER</td>\n",
       "      <td>800.0</td>\n",
       "      <td>1040.0</td>\n",
       "      <td>Kolkata Knight Riders</td>\n",
       "      <td>Kolkata Knight Riders</td>\n",
       "      <td>sold</td>\n",
       "      <td>In Auction</td>\n",
       "      <td>100.0</td>\n",
       "    </tr>\n",
       "    <tr>\n",
       "      <th>76</th>\n",
       "      <td>Pat Cummins</td>\n",
       "      <td>ALL-ROUNDER</td>\n",
       "      <td>725.0</td>\n",
       "      <td>942.5</td>\n",
       "      <td>Kolkata Knight Riders</td>\n",
       "      <td>Kolkata Knight Riders</td>\n",
       "      <td>sold</td>\n",
       "      <td>In Auction</td>\n",
       "      <td>200.0</td>\n",
       "    </tr>\n",
       "    <tr>\n",
       "      <th>77</th>\n",
       "      <td>Shivam Mavi</td>\n",
       "      <td>ALL-ROUNDER</td>\n",
       "      <td>725.0</td>\n",
       "      <td>942.5</td>\n",
       "      <td>Kolkata Knight Riders</td>\n",
       "      <td>Kolkata Knight Riders</td>\n",
       "      <td>sold</td>\n",
       "      <td>In Auction</td>\n",
       "      <td>40.0</td>\n",
       "    </tr>\n",
       "    <tr>\n",
       "      <th>81</th>\n",
       "      <td>Tim Southee</td>\n",
       "      <td>BOWLER</td>\n",
       "      <td>150.0</td>\n",
       "      <td>195.0</td>\n",
       "      <td>Kolkata Knight Riders</td>\n",
       "      <td>Kolkata Knight Riders</td>\n",
       "      <td>sold</td>\n",
       "      <td>In Auction</td>\n",
       "      <td>150.0</td>\n",
       "    </tr>\n",
       "    <tr>\n",
       "      <th>85</th>\n",
       "      <td>Sheldon Jackson</td>\n",
       "      <td>WICKETKEEPER</td>\n",
       "      <td>60.0</td>\n",
       "      <td>78.0</td>\n",
       "      <td>Kolkata Knight Riders</td>\n",
       "      <td>Kolkata Knight Riders</td>\n",
       "      <td>sold</td>\n",
       "      <td>In Auction</td>\n",
       "      <td>30.0</td>\n",
       "    </tr>\n",
       "    <tr>\n",
       "      <th>99</th>\n",
       "      <td>Shahrukh Khan</td>\n",
       "      <td>ALL-ROUNDER</td>\n",
       "      <td>900.0</td>\n",
       "      <td>1170.0</td>\n",
       "      <td>Punjab Kings</td>\n",
       "      <td>Punjab Kings</td>\n",
       "      <td>sold</td>\n",
       "      <td>In Auction</td>\n",
       "      <td>40.0</td>\n",
       "    </tr>\n",
       "    <tr>\n",
       "      <th>105</th>\n",
       "      <td>Harpreet Brar</td>\n",
       "      <td>ALL-ROUNDER</td>\n",
       "      <td>380.0</td>\n",
       "      <td>494.0</td>\n",
       "      <td>Punjab Kings</td>\n",
       "      <td>Punjab Kings</td>\n",
       "      <td>sold</td>\n",
       "      <td>In Auction</td>\n",
       "      <td>20.0</td>\n",
       "    </tr>\n",
       "    <tr>\n",
       "      <th>108</th>\n",
       "      <td>Nathan Ellis</td>\n",
       "      <td>BOWLER</td>\n",
       "      <td>75.0</td>\n",
       "      <td>97.5</td>\n",
       "      <td>Punjab Kings</td>\n",
       "      <td>Punjab Kings</td>\n",
       "      <td>sold</td>\n",
       "      <td>In Auction</td>\n",
       "      <td>75.0</td>\n",
       "    </tr>\n",
       "    <tr>\n",
       "      <th>109</th>\n",
       "      <td>Prabhsimran Singh</td>\n",
       "      <td>WICKETKEEPER</td>\n",
       "      <td>60.0</td>\n",
       "      <td>78.0</td>\n",
       "      <td>Punjab Kings</td>\n",
       "      <td>Punjab Kings</td>\n",
       "      <td>sold</td>\n",
       "      <td>In Auction</td>\n",
       "      <td>20.0</td>\n",
       "    </tr>\n",
       "    <tr>\n",
       "      <th>114</th>\n",
       "      <td>Ishan Porel</td>\n",
       "      <td>BOWLER</td>\n",
       "      <td>25.0</td>\n",
       "      <td>32.5</td>\n",
       "      <td>Punjab Kings</td>\n",
       "      <td>Punjab Kings</td>\n",
       "      <td>sold</td>\n",
       "      <td>In Auction</td>\n",
       "      <td>20.0</td>\n",
       "    </tr>\n",
       "    <tr>\n",
       "      <th>144</th>\n",
       "      <td>Ishan Kishan</td>\n",
       "      <td>WICKETKEEPER</td>\n",
       "      <td>1525.0</td>\n",
       "      <td>1982.5</td>\n",
       "      <td>Mumbai Indians</td>\n",
       "      <td>Mumbai Indians</td>\n",
       "      <td>sold</td>\n",
       "      <td>In Auction</td>\n",
       "      <td>200.0</td>\n",
       "    </tr>\n",
       "    <tr>\n",
       "      <th>160</th>\n",
       "      <td>Arjun Tendulkar</td>\n",
       "      <td>ALL-ROUNDER</td>\n",
       "      <td>30.0</td>\n",
       "      <td>39.0</td>\n",
       "      <td>Mumbai Indians</td>\n",
       "      <td>Mumbai Indians</td>\n",
       "      <td>sold</td>\n",
       "      <td>In Auction</td>\n",
       "      <td>20.0</td>\n",
       "    </tr>\n",
       "    <tr>\n",
       "      <th>162</th>\n",
       "      <td>Anmolpreet Singh</td>\n",
       "      <td>BATTER</td>\n",
       "      <td>20.0</td>\n",
       "      <td>26.0</td>\n",
       "      <td>Mumbai Indians</td>\n",
       "      <td>Mumbai Indians</td>\n",
       "      <td>sold</td>\n",
       "      <td>In Auction</td>\n",
       "      <td>20.0</td>\n",
       "    </tr>\n",
       "    <tr>\n",
       "      <th>170</th>\n",
       "      <td>Wanindu Hasaranga</td>\n",
       "      <td>ALL-ROUNDER</td>\n",
       "      <td>1075.0</td>\n",
       "      <td>1397.5</td>\n",
       "      <td>Royal Challengers Bangalore</td>\n",
       "      <td>Royal Challengers Bangalore</td>\n",
       "      <td>sold</td>\n",
       "      <td>In Auction</td>\n",
       "      <td>100.0</td>\n",
       "    </tr>\n",
       "    <tr>\n",
       "      <th>171</th>\n",
       "      <td>Harshal Patel</td>\n",
       "      <td>ALL-ROUNDER</td>\n",
       "      <td>1075.0</td>\n",
       "      <td>1397.5</td>\n",
       "      <td>Royal Challengers Bangalore</td>\n",
       "      <td>Royal Challengers Bangalore</td>\n",
       "      <td>sold</td>\n",
       "      <td>In Auction</td>\n",
       "      <td>200.0</td>\n",
       "    </tr>\n",
       "    <tr>\n",
       "      <th>177</th>\n",
       "      <td>Shahbaz Ahamad</td>\n",
       "      <td>ALL-ROUNDER</td>\n",
       "      <td>240.0</td>\n",
       "      <td>312.0</td>\n",
       "      <td>Royal Challengers Bangalore</td>\n",
       "      <td>Royal Challengers Bangalore</td>\n",
       "      <td>sold</td>\n",
       "      <td>In Auction</td>\n",
       "      <td>30.0</td>\n",
       "    </tr>\n",
       "    <tr>\n",
       "      <th>181</th>\n",
       "      <td>Finn Allen</td>\n",
       "      <td>BATTER</td>\n",
       "      <td>80.0</td>\n",
       "      <td>104.0</td>\n",
       "      <td>Royal Challengers Bangalore</td>\n",
       "      <td>Royal Challengers Bangalore</td>\n",
       "      <td>sold</td>\n",
       "      <td>In Auction</td>\n",
       "      <td>50.0</td>\n",
       "    </tr>\n",
       "    <tr>\n",
       "      <th>185</th>\n",
       "      <td>Suyash Prabhudessai</td>\n",
       "      <td>ALL-ROUNDER</td>\n",
       "      <td>30.0</td>\n",
       "      <td>39.0</td>\n",
       "      <td>Royal Challengers Bangalore</td>\n",
       "      <td>Royal Challengers Bangalore</td>\n",
       "      <td>sold</td>\n",
       "      <td>In Auction</td>\n",
       "      <td>20.0</td>\n",
       "    </tr>\n",
       "    <tr>\n",
       "      <th>187</th>\n",
       "      <td>Akash Deep</td>\n",
       "      <td>BOWLER</td>\n",
       "      <td>20.0</td>\n",
       "      <td>26.0</td>\n",
       "      <td>Royal Challengers Bangalore</td>\n",
       "      <td>Royal Challengers Bangalore</td>\n",
       "      <td>sold</td>\n",
       "      <td>In Auction</td>\n",
       "      <td>20.0</td>\n",
       "    </tr>\n",
       "    <tr>\n",
       "      <th>199</th>\n",
       "      <td>Riyan Parag</td>\n",
       "      <td>ALL-ROUNDER</td>\n",
       "      <td>380.0</td>\n",
       "      <td>494.0</td>\n",
       "      <td>Rajasthan Royals</td>\n",
       "      <td>Rajasthan Royals</td>\n",
       "      <td>sold</td>\n",
       "      <td>In Auction</td>\n",
       "      <td>30.0</td>\n",
       "    </tr>\n",
       "    <tr>\n",
       "      <th>207</th>\n",
       "      <td>K.C Cariappa</td>\n",
       "      <td>BOWLER</td>\n",
       "      <td>30.0</td>\n",
       "      <td>39.0</td>\n",
       "      <td>Rajasthan Royals</td>\n",
       "      <td>Rajasthan Royals</td>\n",
       "      <td>sold</td>\n",
       "      <td>In Auction</td>\n",
       "      <td>20.0</td>\n",
       "    </tr>\n",
       "    <tr>\n",
       "      <th>212</th>\n",
       "      <td>Kuldip Yadav</td>\n",
       "      <td>BOWLER</td>\n",
       "      <td>20.0</td>\n",
       "      <td>26.0</td>\n",
       "      <td>Rajasthan Royals</td>\n",
       "      <td>Rajasthan Royals</td>\n",
       "      <td>sold</td>\n",
       "      <td>In Auction</td>\n",
       "      <td>20.0</td>\n",
       "    </tr>\n",
       "    <tr>\n",
       "      <th>219</th>\n",
       "      <td>Abhishek Sharma</td>\n",
       "      <td>ALL-ROUNDER</td>\n",
       "      <td>650.0</td>\n",
       "      <td>845.0</td>\n",
       "      <td>Sunrisers Hyderabad</td>\n",
       "      <td>Sunrisers Hyderabad</td>\n",
       "      <td>sold</td>\n",
       "      <td>In Auction</td>\n",
       "      <td>20.0</td>\n",
       "    </tr>\n",
       "    <tr>\n",
       "      <th>221</th>\n",
       "      <td>Bhuvneshwar Kumar</td>\n",
       "      <td>BOWLER</td>\n",
       "      <td>420.0</td>\n",
       "      <td>546.0</td>\n",
       "      <td>Sunrisers Hyderabad</td>\n",
       "      <td>Sunrisers Hyderabad</td>\n",
       "      <td>sold</td>\n",
       "      <td>In Auction</td>\n",
       "      <td>200.0</td>\n",
       "    </tr>\n",
       "    <tr>\n",
       "      <th>222</th>\n",
       "      <td>T. Natarajan</td>\n",
       "      <td>BOWLER</td>\n",
       "      <td>400.0</td>\n",
       "      <td>520.0</td>\n",
       "      <td>Sunrisers Hyderabad</td>\n",
       "      <td>Sunrisers Hyderabad</td>\n",
       "      <td>sold</td>\n",
       "      <td>In Auction</td>\n",
       "      <td>100.0</td>\n",
       "    </tr>\n",
       "    <tr>\n",
       "      <th>232</th>\n",
       "      <td>Priyam Garg</td>\n",
       "      <td>BATTER</td>\n",
       "      <td>20.0</td>\n",
       "      <td>26.0</td>\n",
       "      <td>Sunrisers Hyderabad</td>\n",
       "      <td>Sunrisers Hyderabad</td>\n",
       "      <td>sold</td>\n",
       "      <td>In Auction</td>\n",
       "      <td>20.0</td>\n",
       "    </tr>\n",
       "    <tr>\n",
       "      <th>234</th>\n",
       "      <td>Jagadeesha Suchith</td>\n",
       "      <td>BOWLER</td>\n",
       "      <td>20.0</td>\n",
       "      <td>26.0</td>\n",
       "      <td>Sunrisers Hyderabad</td>\n",
       "      <td>Sunrisers Hyderabad</td>\n",
       "      <td>sold</td>\n",
       "      <td>In Auction</td>\n",
       "      <td>20.0</td>\n",
       "    </tr>\n",
       "  </tbody>\n",
       "</table>\n",
       "</div>"
      ],
      "text/plain": [
       "                  Player          Type  Sold_for_lakh  Cost_in_dollars  \\\n",
       "23         Deepak Chahar        BOWLER         1400.0           1820.0   \n",
       "26         Ambati Rayudu  WICKETKEEPER          675.0            877.5   \n",
       "28          Dwayne Bravo   ALL-ROUNDER          440.0            572.0   \n",
       "31         Robin Uthappa        BATTER          200.0            260.0   \n",
       "32      Mitchell Santner   ALL-ROUNDER          190.0            247.0   \n",
       "39       K.Bhagath Varma   ALL-ROUNDER           20.0             26.0   \n",
       "41         N. Jagadeesan  WICKETKEEPER           20.0             26.0   \n",
       "42      C.Hari Nishaanth        BATTER           20.0             26.0   \n",
       "43             K.M. Asif        BOWLER           20.0             26.0   \n",
       "62           Lalit Yadav   ALL-ROUNDER           65.0             84.5   \n",
       "64          Pravin Dubey   ALL-ROUNDER           50.0             65.0   \n",
       "69           Ripal Patel   ALL-ROUNDER           20.0             26.0   \n",
       "73           Nitish Rana   ALL-ROUNDER          800.0           1040.0   \n",
       "76           Pat Cummins   ALL-ROUNDER          725.0            942.5   \n",
       "77           Shivam Mavi   ALL-ROUNDER          725.0            942.5   \n",
       "81           Tim Southee        BOWLER          150.0            195.0   \n",
       "85       Sheldon Jackson  WICKETKEEPER           60.0             78.0   \n",
       "99         Shahrukh Khan   ALL-ROUNDER          900.0           1170.0   \n",
       "105        Harpreet Brar   ALL-ROUNDER          380.0            494.0   \n",
       "108         Nathan Ellis        BOWLER           75.0             97.5   \n",
       "109    Prabhsimran Singh  WICKETKEEPER           60.0             78.0   \n",
       "114          Ishan Porel        BOWLER           25.0             32.5   \n",
       "144         Ishan Kishan  WICKETKEEPER         1525.0           1982.5   \n",
       "160      Arjun Tendulkar   ALL-ROUNDER           30.0             39.0   \n",
       "162     Anmolpreet Singh        BATTER           20.0             26.0   \n",
       "170    Wanindu Hasaranga   ALL-ROUNDER         1075.0           1397.5   \n",
       "171        Harshal Patel   ALL-ROUNDER         1075.0           1397.5   \n",
       "177       Shahbaz Ahamad   ALL-ROUNDER          240.0            312.0   \n",
       "181           Finn Allen        BATTER           80.0            104.0   \n",
       "185  Suyash Prabhudessai   ALL-ROUNDER           30.0             39.0   \n",
       "187           Akash Deep        BOWLER           20.0             26.0   \n",
       "199          Riyan Parag   ALL-ROUNDER          380.0            494.0   \n",
       "207         K.C Cariappa        BOWLER           30.0             39.0   \n",
       "212         Kuldip Yadav        BOWLER           20.0             26.0   \n",
       "219      Abhishek Sharma   ALL-ROUNDER          650.0            845.0   \n",
       "221    Bhuvneshwar Kumar        BOWLER          420.0            546.0   \n",
       "222         T. Natarajan        BOWLER          400.0            520.0   \n",
       "232          Priyam Garg        BATTER           20.0             26.0   \n",
       "234   Jagadeesha Suchith        BOWLER           20.0             26.0   \n",
       "\n",
       "                       Prev_team                    Curr_team status  \\\n",
       "23           Chennai Super Kings          Chennai Super Kings   sold   \n",
       "26           Chennai Super Kings          Chennai Super Kings   sold   \n",
       "28           Chennai Super Kings          Chennai Super Kings   sold   \n",
       "31           Chennai Super Kings          Chennai Super Kings   sold   \n",
       "32           Chennai Super Kings          Chennai Super Kings   sold   \n",
       "39           Chennai Super Kings          Chennai Super Kings   sold   \n",
       "41           Chennai Super Kings          Chennai Super Kings   sold   \n",
       "42           Chennai Super Kings          Chennai Super Kings   sold   \n",
       "43           Chennai Super Kings          Chennai Super Kings   sold   \n",
       "62                Delhi Capitals               Delhi Capitals   sold   \n",
       "64                Delhi Capitals               Delhi Capitals   sold   \n",
       "69                Delhi Capitals               Delhi Capitals   sold   \n",
       "73         Kolkata Knight Riders        Kolkata Knight Riders   sold   \n",
       "76         Kolkata Knight Riders        Kolkata Knight Riders   sold   \n",
       "77         Kolkata Knight Riders        Kolkata Knight Riders   sold   \n",
       "81         Kolkata Knight Riders        Kolkata Knight Riders   sold   \n",
       "85         Kolkata Knight Riders        Kolkata Knight Riders   sold   \n",
       "99                  Punjab Kings                 Punjab Kings   sold   \n",
       "105                 Punjab Kings                 Punjab Kings   sold   \n",
       "108                 Punjab Kings                 Punjab Kings   sold   \n",
       "109                 Punjab Kings                 Punjab Kings   sold   \n",
       "114                 Punjab Kings                 Punjab Kings   sold   \n",
       "144               Mumbai Indians               Mumbai Indians   sold   \n",
       "160               Mumbai Indians               Mumbai Indians   sold   \n",
       "162               Mumbai Indians               Mumbai Indians   sold   \n",
       "170  Royal Challengers Bangalore  Royal Challengers Bangalore   sold   \n",
       "171  Royal Challengers Bangalore  Royal Challengers Bangalore   sold   \n",
       "177  Royal Challengers Bangalore  Royal Challengers Bangalore   sold   \n",
       "181  Royal Challengers Bangalore  Royal Challengers Bangalore   sold   \n",
       "185  Royal Challengers Bangalore  Royal Challengers Bangalore   sold   \n",
       "187  Royal Challengers Bangalore  Royal Challengers Bangalore   sold   \n",
       "199             Rajasthan Royals             Rajasthan Royals   sold   \n",
       "207             Rajasthan Royals             Rajasthan Royals   sold   \n",
       "212             Rajasthan Royals             Rajasthan Royals   sold   \n",
       "219          Sunrisers Hyderabad          Sunrisers Hyderabad   sold   \n",
       "221          Sunrisers Hyderabad          Sunrisers Hyderabad   sold   \n",
       "222          Sunrisers Hyderabad          Sunrisers Hyderabad   sold   \n",
       "232          Sunrisers Hyderabad          Sunrisers Hyderabad   sold   \n",
       "234          Sunrisers Hyderabad          Sunrisers Hyderabad   sold   \n",
       "\n",
       "      retention  base_price  \n",
       "23   In Auction       200.0  \n",
       "26   In Auction       200.0  \n",
       "28   In Auction       200.0  \n",
       "31   In Auction       200.0  \n",
       "32   In Auction       100.0  \n",
       "39   In Auction        20.0  \n",
       "41   In Auction        20.0  \n",
       "42   In Auction        20.0  \n",
       "43   In Auction        20.0  \n",
       "62   In Auction        20.0  \n",
       "64   In Auction        20.0  \n",
       "69   In Auction        20.0  \n",
       "73   In Auction       100.0  \n",
       "76   In Auction       200.0  \n",
       "77   In Auction        40.0  \n",
       "81   In Auction       150.0  \n",
       "85   In Auction        30.0  \n",
       "99   In Auction        40.0  \n",
       "105  In Auction        20.0  \n",
       "108  In Auction        75.0  \n",
       "109  In Auction        20.0  \n",
       "114  In Auction        20.0  \n",
       "144  In Auction       200.0  \n",
       "160  In Auction        20.0  \n",
       "162  In Auction        20.0  \n",
       "170  In Auction       100.0  \n",
       "171  In Auction       200.0  \n",
       "177  In Auction        30.0  \n",
       "181  In Auction        50.0  \n",
       "185  In Auction        20.0  \n",
       "187  In Auction        20.0  \n",
       "199  In Auction        30.0  \n",
       "207  In Auction        20.0  \n",
       "212  In Auction        20.0  \n",
       "219  In Auction        20.0  \n",
       "221  In Auction       200.0  \n",
       "222  In Auction       100.0  \n",
       "232  In Auction        20.0  \n",
       "234  In Auction        20.0  "
      ]
     },
     "execution_count": 48,
     "metadata": {},
     "output_type": "execute_result"
    }
   ],
   "source": [
    "same_team = df[(df['Curr_team']==df['Prev_team']) & (df['retention']=='In Auction')]\n",
    "same_team"
   ]
  },
  {
   "cell_type": "code",
   "execution_count": 49,
   "id": "e20a06b7",
   "metadata": {
    "papermill": {
     "duration": 0.10682,
     "end_time": "2022-03-02T04:30:23.075285",
     "exception": false,
     "start_time": "2022-03-02T04:30:22.968465",
     "status": "completed"
    },
    "tags": []
   },
   "outputs": [
    {
     "data": {
      "text/html": [
       "<div>\n",
       "<style scoped>\n",
       "    .dataframe tbody tr th:only-of-type {\n",
       "        vertical-align: middle;\n",
       "    }\n",
       "\n",
       "    .dataframe tbody tr th {\n",
       "        vertical-align: top;\n",
       "    }\n",
       "\n",
       "    .dataframe thead th {\n",
       "        text-align: right;\n",
       "    }\n",
       "</style>\n",
       "<table border=\"1\" class=\"dataframe\">\n",
       "  <thead>\n",
       "    <tr style=\"text-align: right;\">\n",
       "      <th></th>\n",
       "      <th>Player</th>\n",
       "      <th>Type</th>\n",
       "      <th>Sold_for_lakh</th>\n",
       "      <th>Cost_in_dollars</th>\n",
       "      <th>Prev_team</th>\n",
       "      <th>Curr_team</th>\n",
       "      <th>status</th>\n",
       "      <th>retention</th>\n",
       "      <th>base_price</th>\n",
       "    </tr>\n",
       "  </thead>\n",
       "  <tbody>\n",
       "    <tr>\n",
       "      <th>170</th>\n",
       "      <td>Wanindu Hasaranga</td>\n",
       "      <td>ALL-ROUNDER</td>\n",
       "      <td>1075.0</td>\n",
       "      <td>1397.5</td>\n",
       "      <td>Royal Challengers Bangalore</td>\n",
       "      <td>Royal Challengers Bangalore</td>\n",
       "      <td>sold</td>\n",
       "      <td>In Auction</td>\n",
       "      <td>100.0</td>\n",
       "    </tr>\n",
       "    <tr>\n",
       "      <th>171</th>\n",
       "      <td>Harshal Patel</td>\n",
       "      <td>ALL-ROUNDER</td>\n",
       "      <td>1075.0</td>\n",
       "      <td>1397.5</td>\n",
       "      <td>Royal Challengers Bangalore</td>\n",
       "      <td>Royal Challengers Bangalore</td>\n",
       "      <td>sold</td>\n",
       "      <td>In Auction</td>\n",
       "      <td>200.0</td>\n",
       "    </tr>\n",
       "    <tr>\n",
       "      <th>177</th>\n",
       "      <td>Shahbaz Ahamad</td>\n",
       "      <td>ALL-ROUNDER</td>\n",
       "      <td>240.0</td>\n",
       "      <td>312.0</td>\n",
       "      <td>Royal Challengers Bangalore</td>\n",
       "      <td>Royal Challengers Bangalore</td>\n",
       "      <td>sold</td>\n",
       "      <td>In Auction</td>\n",
       "      <td>30.0</td>\n",
       "    </tr>\n",
       "    <tr>\n",
       "      <th>181</th>\n",
       "      <td>Finn Allen</td>\n",
       "      <td>BATTER</td>\n",
       "      <td>80.0</td>\n",
       "      <td>104.0</td>\n",
       "      <td>Royal Challengers Bangalore</td>\n",
       "      <td>Royal Challengers Bangalore</td>\n",
       "      <td>sold</td>\n",
       "      <td>In Auction</td>\n",
       "      <td>50.0</td>\n",
       "    </tr>\n",
       "    <tr>\n",
       "      <th>185</th>\n",
       "      <td>Suyash Prabhudessai</td>\n",
       "      <td>ALL-ROUNDER</td>\n",
       "      <td>30.0</td>\n",
       "      <td>39.0</td>\n",
       "      <td>Royal Challengers Bangalore</td>\n",
       "      <td>Royal Challengers Bangalore</td>\n",
       "      <td>sold</td>\n",
       "      <td>In Auction</td>\n",
       "      <td>20.0</td>\n",
       "    </tr>\n",
       "    <tr>\n",
       "      <th>187</th>\n",
       "      <td>Akash Deep</td>\n",
       "      <td>BOWLER</td>\n",
       "      <td>20.0</td>\n",
       "      <td>26.0</td>\n",
       "      <td>Royal Challengers Bangalore</td>\n",
       "      <td>Royal Challengers Bangalore</td>\n",
       "      <td>sold</td>\n",
       "      <td>In Auction</td>\n",
       "      <td>20.0</td>\n",
       "    </tr>\n",
       "  </tbody>\n",
       "</table>\n",
       "</div>"
      ],
      "text/plain": [
       "                  Player         Type  Sold_for_lakh  Cost_in_dollars  \\\n",
       "170    Wanindu Hasaranga  ALL-ROUNDER         1075.0           1397.5   \n",
       "171        Harshal Patel  ALL-ROUNDER         1075.0           1397.5   \n",
       "177       Shahbaz Ahamad  ALL-ROUNDER          240.0            312.0   \n",
       "181           Finn Allen       BATTER           80.0            104.0   \n",
       "185  Suyash Prabhudessai  ALL-ROUNDER           30.0             39.0   \n",
       "187           Akash Deep       BOWLER           20.0             26.0   \n",
       "\n",
       "                       Prev_team                    Curr_team status  \\\n",
       "170  Royal Challengers Bangalore  Royal Challengers Bangalore   sold   \n",
       "171  Royal Challengers Bangalore  Royal Challengers Bangalore   sold   \n",
       "177  Royal Challengers Bangalore  Royal Challengers Bangalore   sold   \n",
       "181  Royal Challengers Bangalore  Royal Challengers Bangalore   sold   \n",
       "185  Royal Challengers Bangalore  Royal Challengers Bangalore   sold   \n",
       "187  Royal Challengers Bangalore  Royal Challengers Bangalore   sold   \n",
       "\n",
       "      retention  base_price  \n",
       "170  In Auction       100.0  \n",
       "171  In Auction       200.0  \n",
       "177  In Auction        30.0  \n",
       "181  In Auction        50.0  \n",
       "185  In Auction        20.0  \n",
       "187  In Auction        20.0  "
      ]
     },
     "execution_count": 49,
     "metadata": {},
     "output_type": "execute_result"
    }
   ],
   "source": [
    "same_team[same_team.Curr_team=='Royal Challengers Bangalore']"
   ]
  },
  {
   "cell_type": "markdown",
   "id": "57ed0358",
   "metadata": {
    "papermill": {
     "duration": 0.108687,
     "end_time": "2022-03-02T04:30:23.273244",
     "exception": false,
     "start_time": "2022-03-02T04:30:23.164557",
     "status": "completed"
    },
    "tags": []
   },
   "source": [
    "**Let's Visualize this team wise**"
   ]
  },
  {
   "cell_type": "code",
   "execution_count": 62,
   "id": "a1051fa7",
   "metadata": {
    "papermill": {
     "duration": 0.352947,
     "end_time": "2022-03-02T04:30:23.719220",
     "exception": false,
     "start_time": "2022-03-02T04:30:23.366273",
     "status": "completed"
    },
    "tags": []
   },
   "outputs": [
    {
     "ename": "KeyError",
     "evalue": "0",
     "output_type": "error",
     "traceback": [
      "\u001b[1;31m---------------------------------------------------------------------------\u001b[0m",
      "\u001b[1;31mKeyError\u001b[0m                                  Traceback (most recent call last)",
      "File \u001b[1;32m~\\AppData\\Roaming\\Python\\Python311\\site-packages\\pandas\\core\\indexes\\base.py:3790\u001b[0m, in \u001b[0;36mIndex.get_loc\u001b[1;34m(self, key)\u001b[0m\n\u001b[0;32m   3789\u001b[0m \u001b[38;5;28;01mtry\u001b[39;00m:\n\u001b[1;32m-> 3790\u001b[0m     \u001b[38;5;28;01mreturn\u001b[39;00m \u001b[38;5;28mself\u001b[39m\u001b[38;5;241m.\u001b[39m_engine\u001b[38;5;241m.\u001b[39mget_loc(casted_key)\n\u001b[0;32m   3791\u001b[0m \u001b[38;5;28;01mexcept\u001b[39;00m \u001b[38;5;167;01mKeyError\u001b[39;00m \u001b[38;5;28;01mas\u001b[39;00m err:\n",
      "File \u001b[1;32mindex.pyx:152\u001b[0m, in \u001b[0;36mpandas._libs.index.IndexEngine.get_loc\u001b[1;34m()\u001b[0m\n",
      "File \u001b[1;32mindex.pyx:181\u001b[0m, in \u001b[0;36mpandas._libs.index.IndexEngine.get_loc\u001b[1;34m()\u001b[0m\n",
      "File \u001b[1;32mpandas\\_libs\\hashtable_class_helper.pxi:2606\u001b[0m, in \u001b[0;36mpandas._libs.hashtable.Int64HashTable.get_item\u001b[1;34m()\u001b[0m\n",
      "File \u001b[1;32mpandas\\_libs\\hashtable_class_helper.pxi:2630\u001b[0m, in \u001b[0;36mpandas._libs.hashtable.Int64HashTable.get_item\u001b[1;34m()\u001b[0m\n",
      "\u001b[1;31mKeyError\u001b[0m: 0",
      "\nThe above exception was the direct cause of the following exception:\n",
      "\u001b[1;31mKeyError\u001b[0m                                  Traceback (most recent call last)",
      "Cell \u001b[1;32mIn[62], line 2\u001b[0m\n\u001b[0;32m      1\u001b[0m plt\u001b[38;5;241m.\u001b[39mfigure(figsize\u001b[38;5;241m=\u001b[39m(\u001b[38;5;241m8\u001b[39m,\u001b[38;5;241m10\u001b[39m))\n\u001b[1;32m----> 2\u001b[0m sns\u001b[38;5;241m.\u001b[39mcountplot(same_team[\u001b[38;5;124m'\u001b[39m\u001b[38;5;124mCurr_team\u001b[39m\u001b[38;5;124m'\u001b[39m])\n\u001b[0;32m      3\u001b[0m plt\u001b[38;5;241m.\u001b[39mtitle(\u001b[38;5;124m'\u001b[39m\u001b[38;5;124mPlayers Who brough by their 2021 teams in Auction \u001b[39m\u001b[38;5;124m'\u001b[39m)\n\u001b[0;32m      4\u001b[0m plt\u001b[38;5;241m.\u001b[39mxlabel(\u001b[38;5;124m'\u001b[39m\u001b[38;5;124mName of Team\u001b[39m\u001b[38;5;124m'\u001b[39m)\n",
      "File \u001b[1;32mC:\\ProgramData\\anaconda3\\Lib\\site-packages\\seaborn\\categorical.py:2943\u001b[0m, in \u001b[0;36mcountplot\u001b[1;34m(data, x, y, hue, order, hue_order, orient, color, palette, saturation, width, dodge, ax, **kwargs)\u001b[0m\n\u001b[0;32m   2940\u001b[0m \u001b[38;5;28;01melif\u001b[39;00m x \u001b[38;5;129;01mis\u001b[39;00m \u001b[38;5;129;01mnot\u001b[39;00m \u001b[38;5;28;01mNone\u001b[39;00m \u001b[38;5;129;01mand\u001b[39;00m y \u001b[38;5;129;01mis\u001b[39;00m \u001b[38;5;129;01mnot\u001b[39;00m \u001b[38;5;28;01mNone\u001b[39;00m:\n\u001b[0;32m   2941\u001b[0m     \u001b[38;5;28;01mraise\u001b[39;00m \u001b[38;5;167;01mValueError\u001b[39;00m(\u001b[38;5;124m\"\u001b[39m\u001b[38;5;124mCannot pass values for both `x` and `y`\u001b[39m\u001b[38;5;124m\"\u001b[39m)\n\u001b[1;32m-> 2943\u001b[0m plotter \u001b[38;5;241m=\u001b[39m _CountPlotter(\n\u001b[0;32m   2944\u001b[0m     x, y, hue, data, order, hue_order,\n\u001b[0;32m   2945\u001b[0m     estimator, errorbar, n_boot, units, seed,\n\u001b[0;32m   2946\u001b[0m     orient, color, palette, saturation,\n\u001b[0;32m   2947\u001b[0m     width, errcolor, errwidth, capsize, dodge\n\u001b[0;32m   2948\u001b[0m )\n\u001b[0;32m   2950\u001b[0m plotter\u001b[38;5;241m.\u001b[39mvalue_label \u001b[38;5;241m=\u001b[39m \u001b[38;5;124m\"\u001b[39m\u001b[38;5;124mcount\u001b[39m\u001b[38;5;124m\"\u001b[39m\n\u001b[0;32m   2952\u001b[0m \u001b[38;5;28;01mif\u001b[39;00m ax \u001b[38;5;129;01mis\u001b[39;00m \u001b[38;5;28;01mNone\u001b[39;00m:\n",
      "File \u001b[1;32mC:\\ProgramData\\anaconda3\\Lib\\site-packages\\seaborn\\categorical.py:1530\u001b[0m, in \u001b[0;36m_BarPlotter.__init__\u001b[1;34m(self, x, y, hue, data, order, hue_order, estimator, errorbar, n_boot, units, seed, orient, color, palette, saturation, width, errcolor, errwidth, capsize, dodge)\u001b[0m\n\u001b[0;32m   1525\u001b[0m \u001b[38;5;28;01mdef\u001b[39;00m \u001b[38;5;21m__init__\u001b[39m(\u001b[38;5;28mself\u001b[39m, x, y, hue, data, order, hue_order,\n\u001b[0;32m   1526\u001b[0m              estimator, errorbar, n_boot, units, seed,\n\u001b[0;32m   1527\u001b[0m              orient, color, palette, saturation, width,\n\u001b[0;32m   1528\u001b[0m              errcolor, errwidth, capsize, dodge):\n\u001b[0;32m   1529\u001b[0m \u001b[38;5;250m    \u001b[39m\u001b[38;5;124;03m\"\"\"Initialize the plotter.\"\"\"\u001b[39;00m\n\u001b[1;32m-> 1530\u001b[0m     \u001b[38;5;28mself\u001b[39m\u001b[38;5;241m.\u001b[39mestablish_variables(x, y, hue, data, orient,\n\u001b[0;32m   1531\u001b[0m                              order, hue_order, units)\n\u001b[0;32m   1532\u001b[0m     \u001b[38;5;28mself\u001b[39m\u001b[38;5;241m.\u001b[39mestablish_colors(color, palette, saturation)\n\u001b[0;32m   1533\u001b[0m     \u001b[38;5;28mself\u001b[39m\u001b[38;5;241m.\u001b[39mestimate_statistic(estimator, errorbar, n_boot, seed)\n",
      "File \u001b[1;32mC:\\ProgramData\\anaconda3\\Lib\\site-packages\\seaborn\\categorical.py:486\u001b[0m, in \u001b[0;36m_CategoricalPlotter.establish_variables\u001b[1;34m(self, x, y, hue, data, orient, order, hue_order, units)\u001b[0m\n\u001b[0;32m    484\u001b[0m \u001b[38;5;28;01mif\u001b[39;00m \u001b[38;5;28mhasattr\u001b[39m(data, \u001b[38;5;124m\"\u001b[39m\u001b[38;5;124mshape\u001b[39m\u001b[38;5;124m\"\u001b[39m):\n\u001b[0;32m    485\u001b[0m     \u001b[38;5;28;01mif\u001b[39;00m \u001b[38;5;28mlen\u001b[39m(data\u001b[38;5;241m.\u001b[39mshape) \u001b[38;5;241m==\u001b[39m \u001b[38;5;241m1\u001b[39m:\n\u001b[1;32m--> 486\u001b[0m         \u001b[38;5;28;01mif\u001b[39;00m np\u001b[38;5;241m.\u001b[39misscalar(data[\u001b[38;5;241m0\u001b[39m]):\n\u001b[0;32m    487\u001b[0m             plot_data \u001b[38;5;241m=\u001b[39m [data]\n\u001b[0;32m    488\u001b[0m         \u001b[38;5;28;01melse\u001b[39;00m:\n",
      "File \u001b[1;32m~\\AppData\\Roaming\\Python\\Python311\\site-packages\\pandas\\core\\series.py:1040\u001b[0m, in \u001b[0;36mSeries.__getitem__\u001b[1;34m(self, key)\u001b[0m\n\u001b[0;32m   1037\u001b[0m     \u001b[38;5;28;01mreturn\u001b[39;00m \u001b[38;5;28mself\u001b[39m\u001b[38;5;241m.\u001b[39m_values[key]\n\u001b[0;32m   1039\u001b[0m \u001b[38;5;28;01melif\u001b[39;00m key_is_scalar:\n\u001b[1;32m-> 1040\u001b[0m     \u001b[38;5;28;01mreturn\u001b[39;00m \u001b[38;5;28mself\u001b[39m\u001b[38;5;241m.\u001b[39m_get_value(key)\n\u001b[0;32m   1042\u001b[0m \u001b[38;5;66;03m# Convert generator to list before going through hashable part\u001b[39;00m\n\u001b[0;32m   1043\u001b[0m \u001b[38;5;66;03m# (We will iterate through the generator there to check for slices)\u001b[39;00m\n\u001b[0;32m   1044\u001b[0m \u001b[38;5;28;01mif\u001b[39;00m is_iterator(key):\n",
      "File \u001b[1;32m~\\AppData\\Roaming\\Python\\Python311\\site-packages\\pandas\\core\\series.py:1156\u001b[0m, in \u001b[0;36mSeries._get_value\u001b[1;34m(self, label, takeable)\u001b[0m\n\u001b[0;32m   1153\u001b[0m     \u001b[38;5;28;01mreturn\u001b[39;00m \u001b[38;5;28mself\u001b[39m\u001b[38;5;241m.\u001b[39m_values[label]\n\u001b[0;32m   1155\u001b[0m \u001b[38;5;66;03m# Similar to Index.get_value, but we do not fall back to positional\u001b[39;00m\n\u001b[1;32m-> 1156\u001b[0m loc \u001b[38;5;241m=\u001b[39m \u001b[38;5;28mself\u001b[39m\u001b[38;5;241m.\u001b[39mindex\u001b[38;5;241m.\u001b[39mget_loc(label)\n\u001b[0;32m   1158\u001b[0m \u001b[38;5;28;01mif\u001b[39;00m is_integer(loc):\n\u001b[0;32m   1159\u001b[0m     \u001b[38;5;28;01mreturn\u001b[39;00m \u001b[38;5;28mself\u001b[39m\u001b[38;5;241m.\u001b[39m_values[loc]\n",
      "File \u001b[1;32m~\\AppData\\Roaming\\Python\\Python311\\site-packages\\pandas\\core\\indexes\\base.py:3797\u001b[0m, in \u001b[0;36mIndex.get_loc\u001b[1;34m(self, key)\u001b[0m\n\u001b[0;32m   3792\u001b[0m     \u001b[38;5;28;01mif\u001b[39;00m \u001b[38;5;28misinstance\u001b[39m(casted_key, \u001b[38;5;28mslice\u001b[39m) \u001b[38;5;129;01mor\u001b[39;00m (\n\u001b[0;32m   3793\u001b[0m         \u001b[38;5;28misinstance\u001b[39m(casted_key, abc\u001b[38;5;241m.\u001b[39mIterable)\n\u001b[0;32m   3794\u001b[0m         \u001b[38;5;129;01mand\u001b[39;00m \u001b[38;5;28many\u001b[39m(\u001b[38;5;28misinstance\u001b[39m(x, \u001b[38;5;28mslice\u001b[39m) \u001b[38;5;28;01mfor\u001b[39;00m x \u001b[38;5;129;01min\u001b[39;00m casted_key)\n\u001b[0;32m   3795\u001b[0m     ):\n\u001b[0;32m   3796\u001b[0m         \u001b[38;5;28;01mraise\u001b[39;00m InvalidIndexError(key)\n\u001b[1;32m-> 3797\u001b[0m     \u001b[38;5;28;01mraise\u001b[39;00m \u001b[38;5;167;01mKeyError\u001b[39;00m(key) \u001b[38;5;28;01mfrom\u001b[39;00m \u001b[38;5;21;01merr\u001b[39;00m\n\u001b[0;32m   3798\u001b[0m \u001b[38;5;28;01mexcept\u001b[39;00m \u001b[38;5;167;01mTypeError\u001b[39;00m:\n\u001b[0;32m   3799\u001b[0m     \u001b[38;5;66;03m# If we have a listlike key, _check_indexing_error will raise\u001b[39;00m\n\u001b[0;32m   3800\u001b[0m     \u001b[38;5;66;03m#  InvalidIndexError. Otherwise we fall through and re-raise\u001b[39;00m\n\u001b[0;32m   3801\u001b[0m     \u001b[38;5;66;03m#  the TypeError.\u001b[39;00m\n\u001b[0;32m   3802\u001b[0m     \u001b[38;5;28mself\u001b[39m\u001b[38;5;241m.\u001b[39m_check_indexing_error(key)\n",
      "\u001b[1;31mKeyError\u001b[0m: 0"
     ]
    },
    {
     "data": {
      "text/plain": [
       "<Figure size 800x1000 with 0 Axes>"
      ]
     },
     "metadata": {},
     "output_type": "display_data"
    }
   ],
   "source": [
    "plt.figure(figsize=(8,10))\n",
    "sns.countplot(same_team['Curr_team'])\n",
    "plt.title('Players Who brough by their 2021 teams in Auction ')\n",
    "plt.xlabel('Name of Team')\n",
    "plt.ylabel('Number of Player')\n",
    "plt.xticks(rotation = 20)\n",
    "plt.grid(axis='y')\n",
    "plt.plot()"
   ]
  },
  {
   "cell_type": "markdown",
   "id": "3707a44c",
   "metadata": {
    "papermill": {
     "duration": 0.090819,
     "end_time": "2022-03-02T04:30:23.901197",
     "exception": false,
     "start_time": "2022-03-02T04:30:23.810378",
     "status": "completed"
    },
    "tags": []
   },
   "source": [
    "**7. Number of players in each team based on thier roles**"
   ]
  },
  {
   "cell_type": "code",
   "execution_count": null,
   "id": "568c1775",
   "metadata": {
    "papermill": {
     "duration": 0.722695,
     "end_time": "2022-03-02T04:30:24.714420",
     "exception": false,
     "start_time": "2022-03-02T04:30:23.991725",
     "status": "completed"
    },
    "tags": []
   },
   "outputs": [],
   "source": [
    "plt.figure(figsize=(20,10))\n",
    "fig = sns.countplot(df[df['Curr_team']!='Unsold']['Curr_team'],hue=df['Type'])\n",
    "plt.title('Players in Each Team')\n",
    "plt.xlabel('Name of Team')\n",
    "plt.ylabel('Number of Player')\n",
    "\n",
    "\n",
    "plt.xticks(rotation = 60)\n",
    "\n",
    "for p in fig.patches:\n",
    "    fig.annotate(format(p.get_height(), '.0f'), (p.get_x() + p.get_width()/2., p.get_height()), ha = 'center', va = 'center', xytext = (0, 4), textcoords = 'offset points')"
   ]
  },
  {
   "cell_type": "markdown",
   "id": "d94fb1f3",
   "metadata": {
    "papermill": {
     "duration": 0.094688,
     "end_time": "2022-03-02T04:30:24.901778",
     "exception": false,
     "start_time": "2022-03-02T04:30:24.807090",
     "status": "completed"
    },
    "tags": []
   },
   "source": [
    " > **Observation:**\n",
    "\n",
    "*- This year Sunrisers Hydrabad and Rajasthan Royals are BOWLER Dominated Teams*"
   ]
  },
  {
   "cell_type": "markdown",
   "id": "7c35c0e6",
   "metadata": {
    "papermill": {
     "duration": 0.093639,
     "end_time": "2022-03-02T04:30:25.088405",
     "exception": false,
     "start_time": "2022-03-02T04:30:24.994766",
     "status": "completed"
    },
    "tags": []
   },
   "source": [
    "**8. Heighest Bid(successful ) by each team**"
   ]
  },
  {
   "cell_type": "code",
   "execution_count": null,
   "id": "fc730592",
   "metadata": {
    "papermill": {
     "duration": 0.10781,
     "end_time": "2022-03-02T04:30:25.289142",
     "exception": false,
     "start_time": "2022-03-02T04:30:25.181332",
     "status": "completed"
    },
    "tags": []
   },
   "outputs": [],
   "source": [
    "df[df['retention']=='In Auction'].groupby(['Curr_team'])['Sold_for_lakh'].max()[:-1].sort_values(ascending = False)"
   ]
  },
  {
   "cell_type": "markdown",
   "id": "ea0c09e0",
   "metadata": {
    "papermill": {
     "duration": 0.091727,
     "end_time": "2022-03-02T04:30:25.475809",
     "exception": false,
     "start_time": "2022-03-02T04:30:25.384082",
     "status": "completed"
    },
    "tags": []
   },
   "source": [
    "**9. Top Five Batsman picked from Auction**"
   ]
  },
  {
   "cell_type": "code",
   "execution_count": null,
   "id": "94e175c1",
   "metadata": {
    "papermill": {
     "duration": 0.114472,
     "end_time": "2022-03-02T04:30:25.683331",
     "exception": false,
     "start_time": "2022-03-02T04:30:25.568859",
     "status": "completed"
    },
    "tags": []
   },
   "outputs": [],
   "source": [
    "df[(df['retention']=='In Auction') & (df['Type']=='BATTER')].sort_values(by='Sold_for_lakh', ascending = False).head(5)"
   ]
  },
  {
   "cell_type": "markdown",
   "id": "41d29e7d",
   "metadata": {
    "papermill": {
     "duration": 0.093804,
     "end_time": "2022-03-02T04:30:25.871255",
     "exception": false,
     "start_time": "2022-03-02T04:30:25.777451",
     "status": "completed"
    },
    "tags": []
   },
   "source": [
    "**10. Heighest Paid Retained player**"
   ]
  },
  {
   "cell_type": "code",
   "execution_count": null,
   "id": "aeded0b8",
   "metadata": {
    "papermill": {
     "duration": 0.114176,
     "end_time": "2022-03-02T04:30:26.078787",
     "exception": false,
     "start_time": "2022-03-02T04:30:25.964611",
     "status": "completed"
    },
    "tags": []
   },
   "outputs": [],
   "source": [
    "df[df['retention']=='Retained'].sort_values(by = 'Sold_for_lakh', ascending = False).head(1)"
   ]
  },
  {
   "cell_type": "markdown",
   "id": "55bd7b5e",
   "metadata": {
    "papermill": {
     "duration": 0.094125,
     "end_time": "2022-03-02T04:30:26.267137",
     "exception": false,
     "start_time": "2022-03-02T04:30:26.173012",
     "status": "completed"
    },
    "tags": []
   },
   "source": [
    "> Sir Jadeja It is "
   ]
  },
  {
   "cell_type": "markdown",
   "id": "3a8c49d9",
   "metadata": {
    "papermill": {
     "duration": 0.094469,
     "end_time": "2022-03-02T04:30:26.458126",
     "exception": false,
     "start_time": "2022-03-02T04:30:26.363657",
     "status": "completed"
    },
    "tags": []
   },
   "source": [
    "**11. Amount Spent by each team in Auction**"
   ]
  },
  {
   "cell_type": "code",
   "execution_count": 51,
   "id": "4b7456d3",
   "metadata": {
    "papermill": {
     "duration": 0.107024,
     "end_time": "2022-03-02T04:30:26.662800",
     "exception": false,
     "start_time": "2022-03-02T04:30:26.555776",
     "status": "completed"
    },
    "tags": []
   },
   "outputs": [
    {
     "data": {
      "text/plain": [
       "Curr_team\n",
       "Chennai Super Kings            8705.0\n",
       "Delhi Capitals                 8640.0\n",
       "Gujarat Titans                 8965.0\n",
       "Kolkata Knight Riders          8155.0\n",
       "Lucknow Super Giants           8940.0\n",
       "Mumbai Indians                 8990.0\n",
       "Punjab Kings                   8455.0\n",
       "Rajasthan Royals               8905.0\n",
       "Royal Challengers Bangalore    8845.0\n",
       "Sunrisers Hyderabad            8990.0\n",
       "Name: Sold_for_lakh, dtype: float64"
      ]
     },
     "execution_count": 51,
     "metadata": {},
     "output_type": "execute_result"
    }
   ],
   "source": [
    "amount_spent = df.groupby('Curr_team')['Sold_for_lakh'].sum()[:-1]\n",
    "amount_spent"
   ]
  },
  {
   "cell_type": "markdown",
   "id": "1257b0cc",
   "metadata": {
    "papermill": {
     "duration": 0.095524,
     "end_time": "2022-03-02T04:30:27.697444",
     "exception": false,
     "start_time": "2022-03-02T04:30:27.601920",
     "status": "completed"
    },
    "tags": []
   },
   "source": [
    "**12. List of players who Played IPL 2021 but went unsold this time**"
   ]
  },
  {
   "cell_type": "code",
   "execution_count": 52,
   "id": "db9c3454",
   "metadata": {
    "papermill": {
     "duration": 0.106505,
     "end_time": "2022-03-02T04:30:27.899429",
     "exception": false,
     "start_time": "2022-03-02T04:30:27.792924",
     "status": "completed"
    },
    "tags": []
   },
   "outputs": [],
   "source": [
    "unsold_stars = df[(df.Prev_team != 'Not Participated in IPL 2021') & (df.Curr_team == 'Unsold')][['Player','Prev_team']]"
   ]
  },
  {
   "cell_type": "code",
   "execution_count": 53,
   "id": "1cf09b93",
   "metadata": {
    "papermill": {
     "duration": 0.110489,
     "end_time": "2022-03-02T04:30:28.106686",
     "exception": false,
     "start_time": "2022-03-02T04:30:27.996197",
     "status": "completed"
    },
    "tags": []
   },
   "outputs": [
    {
     "data": {
      "text/html": [
       "<div>\n",
       "<style scoped>\n",
       "    .dataframe tbody tr th:only-of-type {\n",
       "        vertical-align: middle;\n",
       "    }\n",
       "\n",
       "    .dataframe tbody tr th {\n",
       "        vertical-align: top;\n",
       "    }\n",
       "\n",
       "    .dataframe thead th {\n",
       "        text-align: right;\n",
       "    }\n",
       "</style>\n",
       "<table border=\"1\" class=\"dataframe\">\n",
       "  <thead>\n",
       "    <tr style=\"text-align: right;\">\n",
       "      <th></th>\n",
       "      <th>Player</th>\n",
       "      <th>Prev_team</th>\n",
       "    </tr>\n",
       "  </thead>\n",
       "  <tbody>\n",
       "    <tr>\n",
       "      <th>237</th>\n",
       "      <td>Suresh Raina</td>\n",
       "      <td>Chennai Super Kings</td>\n",
       "    </tr>\n",
       "    <tr>\n",
       "      <th>238</th>\n",
       "      <td>Steve Smith</td>\n",
       "      <td>Delhi Capitals</td>\n",
       "    </tr>\n",
       "    <tr>\n",
       "      <th>239</th>\n",
       "      <td>Shakib Al Hasan</td>\n",
       "      <td>Kolkata Knight Riders</td>\n",
       "    </tr>\n",
       "    <tr>\n",
       "      <th>240</th>\n",
       "      <td>Amit Mishra</td>\n",
       "      <td>Delhi Capitals</td>\n",
       "    </tr>\n",
       "    <tr>\n",
       "      <th>241</th>\n",
       "      <td>Adil Rashid</td>\n",
       "      <td>Punjab Kings</td>\n",
       "    </tr>\n",
       "    <tr>\n",
       "      <th>242</th>\n",
       "      <td>Imran Tahir</td>\n",
       "      <td>Chennai Super Kings</td>\n",
       "    </tr>\n",
       "    <tr>\n",
       "      <th>243</th>\n",
       "      <td>Mujeeb Zadran</td>\n",
       "      <td>Sunrisers Hyderabad</td>\n",
       "    </tr>\n",
       "    <tr>\n",
       "      <th>244</th>\n",
       "      <td>Adam Zampa</td>\n",
       "      <td>Royal Challengers Bangalore</td>\n",
       "    </tr>\n",
       "    <tr>\n",
       "      <th>245</th>\n",
       "      <td>Rajat Patidar</td>\n",
       "      <td>Royal Challengers Bangalore</td>\n",
       "    </tr>\n",
       "    <tr>\n",
       "      <th>246</th>\n",
       "      <td>Mohammed Azharuddeen</td>\n",
       "      <td>Royal Challengers Bangalore</td>\n",
       "    </tr>\n",
       "    <tr>\n",
       "      <th>249</th>\n",
       "      <td>M. Siddharth</td>\n",
       "      <td>Delhi Capitals</td>\n",
       "    </tr>\n",
       "    <tr>\n",
       "      <th>252</th>\n",
       "      <td>Dawid Malan</td>\n",
       "      <td>Punjab Kings</td>\n",
       "    </tr>\n",
       "    <tr>\n",
       "      <th>253</th>\n",
       "      <td>Eoin Morgan</td>\n",
       "      <td>Kolkata Knight Riders</td>\n",
       "    </tr>\n",
       "    <tr>\n",
       "      <th>254</th>\n",
       "      <td>Cheteshwar Pujara</td>\n",
       "      <td>Chennai Super Kings</td>\n",
       "    </tr>\n",
       "    <tr>\n",
       "      <th>255</th>\n",
       "      <td>Saurabh Tiwary</td>\n",
       "      <td>Mumbai Indians</td>\n",
       "    </tr>\n",
       "    <tr>\n",
       "      <th>257</th>\n",
       "      <td>Ishant Sharma</td>\n",
       "      <td>Delhi Capitals</td>\n",
       "    </tr>\n",
       "    <tr>\n",
       "      <th>259</th>\n",
       "      <td>Piyush Chawla</td>\n",
       "      <td>Mumbai Indians</td>\n",
       "    </tr>\n",
       "    <tr>\n",
       "      <th>260</th>\n",
       "      <td>Tabraiz Shamsi</td>\n",
       "      <td>Rajasthan Royals</td>\n",
       "    </tr>\n",
       "    <tr>\n",
       "      <th>262</th>\n",
       "      <td>Sachin Baby</td>\n",
       "      <td>Royal Challengers Bangalore</td>\n",
       "    </tr>\n",
       "    <tr>\n",
       "      <th>267</th>\n",
       "      <td>Virat Singh</td>\n",
       "      <td>Sunrisers Hyderabad</td>\n",
       "    </tr>\n",
       "    <tr>\n",
       "      <th>269</th>\n",
       "      <td>Akash Singh</td>\n",
       "      <td>Rajasthan Royals</td>\n",
       "    </tr>\n",
       "    <tr>\n",
       "      <th>273</th>\n",
       "      <td>Chris Lynn</td>\n",
       "      <td>Mumbai Indians</td>\n",
       "    </tr>\n",
       "    <tr>\n",
       "      <th>276</th>\n",
       "      <td>George Garton</td>\n",
       "      <td>Royal Challengers Bangalore</td>\n",
       "    </tr>\n",
       "    <tr>\n",
       "      <th>288</th>\n",
       "      <td>Andrew Tye</td>\n",
       "      <td>Rajasthan Royals</td>\n",
       "    </tr>\n",
       "    <tr>\n",
       "      <th>289</th>\n",
       "      <td>Sandeep Warrier</td>\n",
       "      <td>Kolkata Knight Riders</td>\n",
       "    </tr>\n",
       "    <tr>\n",
       "      <th>311</th>\n",
       "      <td>Shreevats Goswami</td>\n",
       "      <td>Sunrisers Hyderabad</td>\n",
       "    </tr>\n",
       "    <tr>\n",
       "      <th>313</th>\n",
       "      <td>Aditya Tare</td>\n",
       "      <td>Mumbai Indians</td>\n",
       "    </tr>\n",
       "    <tr>\n",
       "      <th>317</th>\n",
       "      <td>Lukman Hussain Meriwala</td>\n",
       "      <td>Delhi Capitals</td>\n",
       "    </tr>\n",
       "    <tr>\n",
       "      <th>325</th>\n",
       "      <td>Jalaj Saxena</td>\n",
       "      <td>Punjab Kings</td>\n",
       "    </tr>\n",
       "    <tr>\n",
       "      <th>337</th>\n",
       "      <td>Ben Cutting</td>\n",
       "      <td>Kolkata Knight Riders</td>\n",
       "    </tr>\n",
       "    <tr>\n",
       "      <th>339</th>\n",
       "      <td>Moises Henriques</td>\n",
       "      <td>Punjab Kings</td>\n",
       "    </tr>\n",
       "    <tr>\n",
       "      <th>342</th>\n",
       "      <td>Scott Kuggeleijn</td>\n",
       "      <td>Royal Challengers Bangalore</td>\n",
       "    </tr>\n",
       "    <tr>\n",
       "      <th>343</th>\n",
       "      <td>Pawan Negi</td>\n",
       "      <td>Kolkata Knight Riders</td>\n",
       "    </tr>\n",
       "    <tr>\n",
       "      <th>346</th>\n",
       "      <td>Dhawal Kulkarni</td>\n",
       "      <td>Mumbai Indians</td>\n",
       "    </tr>\n",
       "    <tr>\n",
       "      <th>348</th>\n",
       "      <td>Kane Richardson</td>\n",
       "      <td>Royal Challengers Bangalore</td>\n",
       "    </tr>\n",
       "    <tr>\n",
       "      <th>404</th>\n",
       "      <td>Kedar Jadhav</td>\n",
       "      <td>Sunrisers Hyderabad</td>\n",
       "    </tr>\n",
       "    <tr>\n",
       "      <th>429</th>\n",
       "      <td>Yudhvir Charak</td>\n",
       "      <td>Mumbai Indians</td>\n",
       "    </tr>\n",
       "    <tr>\n",
       "      <th>447</th>\n",
       "      <td>Kulwant Khejroliya</td>\n",
       "      <td>Delhi Capitals</td>\n",
       "    </tr>\n",
       "    <tr>\n",
       "      <th>535</th>\n",
       "      <td>Anirudha Joshi</td>\n",
       "      <td>Delhi Capitals</td>\n",
       "    </tr>\n",
       "    <tr>\n",
       "      <th>623</th>\n",
       "      <td>Agnivesh Ayachi</td>\n",
       "      <td>Punjab Kings</td>\n",
       "    </tr>\n",
       "  </tbody>\n",
       "</table>\n",
       "</div>"
      ],
      "text/plain": [
       "                      Player                    Prev_team\n",
       "237             Suresh Raina          Chennai Super Kings\n",
       "238              Steve Smith               Delhi Capitals\n",
       "239          Shakib Al Hasan        Kolkata Knight Riders\n",
       "240              Amit Mishra               Delhi Capitals\n",
       "241              Adil Rashid                 Punjab Kings\n",
       "242              Imran Tahir          Chennai Super Kings\n",
       "243            Mujeeb Zadran          Sunrisers Hyderabad\n",
       "244               Adam Zampa  Royal Challengers Bangalore\n",
       "245            Rajat Patidar  Royal Challengers Bangalore\n",
       "246     Mohammed Azharuddeen  Royal Challengers Bangalore\n",
       "249             M. Siddharth               Delhi Capitals\n",
       "252              Dawid Malan                 Punjab Kings\n",
       "253              Eoin Morgan        Kolkata Knight Riders\n",
       "254        Cheteshwar Pujara          Chennai Super Kings\n",
       "255           Saurabh Tiwary               Mumbai Indians\n",
       "257            Ishant Sharma               Delhi Capitals\n",
       "259            Piyush Chawla               Mumbai Indians\n",
       "260           Tabraiz Shamsi             Rajasthan Royals\n",
       "262              Sachin Baby  Royal Challengers Bangalore\n",
       "267              Virat Singh          Sunrisers Hyderabad\n",
       "269              Akash Singh             Rajasthan Royals\n",
       "273               Chris Lynn               Mumbai Indians\n",
       "276            George Garton  Royal Challengers Bangalore\n",
       "288               Andrew Tye             Rajasthan Royals\n",
       "289          Sandeep Warrier        Kolkata Knight Riders\n",
       "311        Shreevats Goswami          Sunrisers Hyderabad\n",
       "313              Aditya Tare               Mumbai Indians\n",
       "317  Lukman Hussain Meriwala               Delhi Capitals\n",
       "325             Jalaj Saxena                 Punjab Kings\n",
       "337              Ben Cutting        Kolkata Knight Riders\n",
       "339         Moises Henriques                 Punjab Kings\n",
       "342         Scott Kuggeleijn  Royal Challengers Bangalore\n",
       "343               Pawan Negi        Kolkata Knight Riders\n",
       "346          Dhawal Kulkarni               Mumbai Indians\n",
       "348          Kane Richardson  Royal Challengers Bangalore\n",
       "404             Kedar Jadhav          Sunrisers Hyderabad\n",
       "429           Yudhvir Charak               Mumbai Indians\n",
       "447       Kulwant Khejroliya               Delhi Capitals\n",
       "535           Anirudha Joshi               Delhi Capitals\n",
       "623          Agnivesh Ayachi                 Punjab Kings"
      ]
     },
     "execution_count": 53,
     "metadata": {},
     "output_type": "execute_result"
    }
   ],
   "source": [
    "unsold_stars"
   ]
  },
  {
   "cell_type": "code",
   "execution_count": 54,
   "id": "33bc13a6",
   "metadata": {
    "papermill": {
     "duration": 0.106334,
     "end_time": "2022-03-02T04:30:28.310487",
     "exception": false,
     "start_time": "2022-03-02T04:30:28.204153",
     "status": "completed"
    },
    "tags": []
   },
   "outputs": [
    {
     "data": {
      "text/plain": [
       "Prev_team\n",
       "Chennai Super Kings            3\n",
       "Delhi Capitals                 7\n",
       "Kolkata Knight Riders          5\n",
       "Mumbai Indians                 6\n",
       "Punjab Kings                   5\n",
       "Rajasthan Royals               3\n",
       "Royal Challengers Bangalore    7\n",
       "Sunrisers Hyderabad            4\n",
       "Name: Player, dtype: int64"
      ]
     },
     "execution_count": 54,
     "metadata": {},
     "output_type": "execute_result"
    }
   ],
   "source": [
    "unsold_stars.groupby('Prev_team')['Player'].count()"
   ]
  },
  {
   "cell_type": "code",
   "execution_count": null,
   "id": "f452f02e-45e7-4c83-9ba1-ee6ee92b803b",
   "metadata": {},
   "outputs": [],
   "source": []
  },
  {
   "cell_type": "code",
   "execution_count": null,
   "id": "a88bf992-04d0-40b1-a59f-1ea09b8d63eb",
   "metadata": {},
   "outputs": [],
   "source": []
  },
  {
   "cell_type": "code",
   "execution_count": null,
   "id": "1d946c75-b796-4b2c-90e3-31b21b05d882",
   "metadata": {},
   "outputs": [],
   "source": []
  },
  {
   "cell_type": "code",
   "execution_count": null,
   "id": "00d43204-d64c-4247-aac1-155debf666bb",
   "metadata": {},
   "outputs": [],
   "source": []
  },
  {
   "cell_type": "code",
   "execution_count": null,
   "id": "9d210798-1041-40b0-bf39-27a366a44ad3",
   "metadata": {},
   "outputs": [],
   "source": []
  },
  {
   "cell_type": "code",
   "execution_count": null,
   "id": "3d227d3a-857c-43e8-937f-9c376ce640e2",
   "metadata": {},
   "outputs": [],
   "source": []
  },
  {
   "cell_type": "code",
   "execution_count": null,
   "id": "7258f893-6129-41be-b43a-03168cc23d8d",
   "metadata": {},
   "outputs": [],
   "source": []
  },
  {
   "cell_type": "code",
   "execution_count": null,
   "id": "1f1eafad-0f32-43d1-9648-32dcce7682c7",
   "metadata": {},
   "outputs": [],
   "source": []
  },
  {
   "cell_type": "code",
   "execution_count": null,
   "id": "ccd9dedf-b870-4810-ad49-90e38a0c973e",
   "metadata": {},
   "outputs": [],
   "source": []
  }
 ],
 "metadata": {
  "kernelspec": {
   "display_name": "Python 3 (ipykernel)",
   "language": "python",
   "name": "python3"
  },
  "language_info": {
   "codemirror_mode": {
    "name": "ipython",
    "version": 3
   },
   "file_extension": ".py",
   "mimetype": "text/x-python",
   "name": "python",
   "nbconvert_exporter": "python",
   "pygments_lexer": "ipython3",
   "version": "3.11.7"
  },
  "papermill": {
   "default_parameters": {},
   "duration": 29.828915,
   "end_time": "2022-03-02T04:30:29.315621",
   "environment_variables": {},
   "exception": null,
   "input_path": "__notebook__.ipynb",
   "output_path": "__notebook__.ipynb",
   "parameters": {},
   "start_time": "2022-03-02T04:29:59.486706",
   "version": "2.3.3"
  }
 },
 "nbformat": 4,
 "nbformat_minor": 5
}
